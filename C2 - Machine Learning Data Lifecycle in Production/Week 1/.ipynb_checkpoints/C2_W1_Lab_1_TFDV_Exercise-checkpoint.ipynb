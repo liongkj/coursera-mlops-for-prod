{
 "cells": [
  {
   "cell_type": "markdown",
   "metadata": {
    "id": "2V_OLlgtQ0DW"
   },
   "source": [
    "# Ungraded Lab: TFDV Exercise\n",
    "\n",
    "\n",
    "In this notebook, you will get to practice using [TensorFlow Data Validation (TFDV)](https://cloud.google.com/solutions/machine-learning/analyzing-and-validating-data-at-scale-for-ml-using-tfx), an open-source Python package from the [TensorFlow Extended (TFX)](https://www.tensorflow.org/tfx) ecosystem. \n",
    "\n",
    "TFDV helps to understand, validate, and monitor production machine learning data at scale. It provides insight into some key questions in the data analysis process such as:\n",
    "\n",
    "* What are the underlying statistics of my data?\n",
    "\n",
    "* What does my training dataset look like?\n",
    "\n",
    "* How does my evaluation and serving datasets compare to the training dataset?\n",
    "\n",
    "* How can I find and fix data anomalies?\n",
    "\n",
    "The figure below summarizes the usual TFDV workflow:\n",
    "\n",
    "<img src='img/tfdv.png' alt='picture of tfdv workflow'>\n",
    "\n",
    "As shown, you can use TFDV to compute descriptive statistics of the training data and generate a schema. You can then validate new datasets (e.g. the serving dataset from your customers) against this schema to detect and fix anomalies. This helps prevent the different types of skew. That way, you can be confident that your model is training on or predicting data that is consistent with the expected feature types and distribution.\n",
    "\n",
    "This ungraded exercise demonstrates useful functions of TFDV at an introductory level as preparation for this week's graded programming exercise. Specifically, you will:\n",
    "\n",
    "- **Generate and visualize statistics from a dataset**\n",
    "- **Detect and fix anomalies in an evaluation dataset**\n",
    "\n",
    "Let's begin!"
   ]
  },
  {
   "cell_type": "markdown",
   "metadata": {
    "id": "lyGr4CC8AUfu"
   },
   "source": [
    "## Package Installation and Imports"
   ]
  },
  {
   "cell_type": "code",
   "execution_count": 1,
   "metadata": {
    "id": "GHi-tkOeBOis"
   },
   "outputs": [
    {
     "name": "stdout",
     "output_type": "stream",
     "text": [
      "TFDV Version: 1.7.0\n",
      "Tensorflow Version: 2.8.0\n"
     ]
    }
   ],
   "source": [
    "import tensorflow as tf\n",
    "import tensorflow_data_validation as tfdv\n",
    "import pandas as pd\n",
    "\n",
    "from sklearn.model_selection import train_test_split\n",
    "from util import add_extra_rows\n",
    "\n",
    "from tensorflow_metadata.proto.v0 import schema_pb2\n",
    "\n",
    "print('TFDV Version: {}'.format(tfdv.__version__))\n",
    "print('Tensorflow Version: {}'.format(tf.__version__))"
   ]
  },
  {
   "cell_type": "markdown",
   "metadata": {
    "id": "Kzt9rO9eAGF-"
   },
   "source": [
    "## Download the dataset\n",
    "\n",
    "You will be working with the [Census Income Dataset](http://archive.ics.uci.edu/ml/datasets/Census+Income), a dataset that can be used to predict if an individual earns more than or less than 50k US Dollars annually. The summary of attribute names with descriptions/expected values is shown below and you can read more about it [in this data description file.](https://archive.ics.uci.edu/ml/machine-learning-databases/adult/adult.names)\n",
    "\n",
    "\n",
    "* **age**: continuous.\n",
    "* **workclass**: Private, Self-emp-not-inc, Self-emp-inc, Federal-gov, Local-gov, State-gov, Without-pay, Never-worked.\n",
    "* **fnlwgt**: continuous.\n",
    "* **education**: Bachelors, Some-college, 11th, HS-grad, Prof-school, Assoc-acdm, Assoc-voc, 9th, 7th-8th, 12th, Masters, 1st-4th, 10th, Doctorate, 5th-6th, Preschool.\n",
    "* **education-num**: continuous.\n",
    "* **marital-status**: Married-civ-spouse, Divorced, Never-married, Separated, Widowed, Married-spouse-absent, Married-AF-spouse.\n",
    "* **occupation**: Tech-support, Craft-repair, Other-service, Sales, Exec-managerial, Prof-specialty, Handlers-cleaners, Machine-op-inspct, Adm-clerical, Farming-fishing, Transport-moving, Priv-house-serv, Protective-serv, Armed-Forces.\n",
    "* **relationship**: Wife, Own-child, Husband, Not-in-family, Other-relative, Unmarried.\n",
    "* **race**: White, Asian-Pac-Islander, Amer-Indian-Eskimo, Other, Black.\n",
    "* **sex**: Female, Male.\n",
    "* **capital-gain**: continuous.\n",
    "* **capital-loss**: continuous.\n",
    "* **hours-per-week**: continuous.\n",
    "* **native-country**: United-States, Cambodia, England, Puerto-Rico, Canada, Germany, Outlying-US(Guam-USVI-etc), India, Japan, Greece, South, China, Cuba, Iran, Honduras, Philippines, Italy, Poland, Jamaica, Vietnam, Mexico, Portugal, Ireland, France, Dominican-Republic, Laos, Ecuador, Taiwan, Haiti, Columbia, Hungary, Guatemala, Nicaragua, Scotland, Thailand, Yugoslavia, El-Salvador, Trinadad&Tobago, Peru, Hong, Holand-Netherlands.\n",
    "\n",
    "Let's load the dataset and split it into training and evaluation sets. We will not shuffle them for consistent results in this demo notebook but you should otherwise in real projects."
   ]
  },
  {
   "cell_type": "code",
   "execution_count": 32,
   "metadata": {
    "id": "WKTfuT2rga-_"
   },
   "outputs": [
    {
     "name": "stderr",
     "output_type": "stream",
     "text": [
      "<ipython-input-32-5a9c3d60d780>:2: ParserWarning: Length of header or names does not match length of data. This leads to a loss of data with index_col=False.\n",
      "  df = pd.read_csv('data/adult.data', skipinitialspace=True, index_col=False, names=[\"age\",\"workclass\",\"fnlwgt\",\"education\",\"education-num\",\"maritial-status\",\"occupation\",\"relationshop\",\"race\",\"sex\",\"capital-gain\",\"capital-loss\",\"hours-per-week\",\"native-country\"])\n"
     ]
    }
   ],
   "source": [
    "# Read in the training and evaluation datasets\n",
    "df = pd.read_csv('data/adult.data', skipinitialspace=True, index_col=False, names=[\"age\",\"workclass\",\"fnlwgt\",\"education\",\"education-num\",\"maritial-status\",\"occupation\",\"relationshop\",\"race\",\"sex\",\"capital-gain\",\"capital-loss\",\"hours-per-week\",\"native-country\"])\n",
    "\n",
    "# Split the dataset. Do not shuffle for this demo notebook.\n",
    "train_df, eval_df = train_test_split(df, test_size=0.2, shuffle=False)"
   ]
  },
  {
   "cell_type": "markdown",
   "metadata": {
    "id": "0RQvgiMRq0pn"
   },
   "source": [
    "Let's see the first few columns of the train and eval sets."
   ]
  },
  {
   "cell_type": "code",
   "execution_count": 33,
   "metadata": {
    "id": "uxDFD6dR0PYH"
   },
   "outputs": [
    {
     "data": {
      "text/html": [
       "<div>\n",
       "<style scoped>\n",
       "    .dataframe tbody tr th:only-of-type {\n",
       "        vertical-align: middle;\n",
       "    }\n",
       "\n",
       "    .dataframe tbody tr th {\n",
       "        vertical-align: top;\n",
       "    }\n",
       "\n",
       "    .dataframe thead th {\n",
       "        text-align: right;\n",
       "    }\n",
       "</style>\n",
       "<table border=\"1\" class=\"dataframe\">\n",
       "  <thead>\n",
       "    <tr style=\"text-align: right;\">\n",
       "      <th></th>\n",
       "      <th>age</th>\n",
       "      <th>workclass</th>\n",
       "      <th>fnlwgt</th>\n",
       "      <th>education</th>\n",
       "      <th>education-num</th>\n",
       "      <th>maritial-status</th>\n",
       "      <th>occupation</th>\n",
       "      <th>relationshop</th>\n",
       "      <th>race</th>\n",
       "      <th>sex</th>\n",
       "      <th>capital-gain</th>\n",
       "      <th>capital-loss</th>\n",
       "      <th>hours-per-week</th>\n",
       "      <th>native-country</th>\n",
       "    </tr>\n",
       "  </thead>\n",
       "  <tbody>\n",
       "    <tr>\n",
       "      <th>0</th>\n",
       "      <td>39</td>\n",
       "      <td>State-gov</td>\n",
       "      <td>77516</td>\n",
       "      <td>Bachelors</td>\n",
       "      <td>13</td>\n",
       "      <td>Never-married</td>\n",
       "      <td>Adm-clerical</td>\n",
       "      <td>Not-in-family</td>\n",
       "      <td>White</td>\n",
       "      <td>Male</td>\n",
       "      <td>2174</td>\n",
       "      <td>0</td>\n",
       "      <td>40</td>\n",
       "      <td>United-States</td>\n",
       "    </tr>\n",
       "    <tr>\n",
       "      <th>1</th>\n",
       "      <td>50</td>\n",
       "      <td>Self-emp-not-inc</td>\n",
       "      <td>83311</td>\n",
       "      <td>Bachelors</td>\n",
       "      <td>13</td>\n",
       "      <td>Married-civ-spouse</td>\n",
       "      <td>Exec-managerial</td>\n",
       "      <td>Husband</td>\n",
       "      <td>White</td>\n",
       "      <td>Male</td>\n",
       "      <td>0</td>\n",
       "      <td>0</td>\n",
       "      <td>13</td>\n",
       "      <td>United-States</td>\n",
       "    </tr>\n",
       "    <tr>\n",
       "      <th>2</th>\n",
       "      <td>38</td>\n",
       "      <td>Private</td>\n",
       "      <td>215646</td>\n",
       "      <td>HS-grad</td>\n",
       "      <td>9</td>\n",
       "      <td>Divorced</td>\n",
       "      <td>Handlers-cleaners</td>\n",
       "      <td>Not-in-family</td>\n",
       "      <td>White</td>\n",
       "      <td>Male</td>\n",
       "      <td>0</td>\n",
       "      <td>0</td>\n",
       "      <td>40</td>\n",
       "      <td>United-States</td>\n",
       "    </tr>\n",
       "    <tr>\n",
       "      <th>3</th>\n",
       "      <td>53</td>\n",
       "      <td>Private</td>\n",
       "      <td>234721</td>\n",
       "      <td>11th</td>\n",
       "      <td>7</td>\n",
       "      <td>Married-civ-spouse</td>\n",
       "      <td>Handlers-cleaners</td>\n",
       "      <td>Husband</td>\n",
       "      <td>Black</td>\n",
       "      <td>Male</td>\n",
       "      <td>0</td>\n",
       "      <td>0</td>\n",
       "      <td>40</td>\n",
       "      <td>United-States</td>\n",
       "    </tr>\n",
       "    <tr>\n",
       "      <th>4</th>\n",
       "      <td>28</td>\n",
       "      <td>Private</td>\n",
       "      <td>338409</td>\n",
       "      <td>Bachelors</td>\n",
       "      <td>13</td>\n",
       "      <td>Married-civ-spouse</td>\n",
       "      <td>Prof-specialty</td>\n",
       "      <td>Wife</td>\n",
       "      <td>Black</td>\n",
       "      <td>Female</td>\n",
       "      <td>0</td>\n",
       "      <td>0</td>\n",
       "      <td>40</td>\n",
       "      <td>Cuba</td>\n",
       "    </tr>\n",
       "  </tbody>\n",
       "</table>\n",
       "</div>"
      ],
      "text/plain": [
       "   age         workclass  fnlwgt  education  education-num  \\\n",
       "0   39         State-gov   77516  Bachelors             13   \n",
       "1   50  Self-emp-not-inc   83311  Bachelors             13   \n",
       "2   38           Private  215646    HS-grad              9   \n",
       "3   53           Private  234721       11th              7   \n",
       "4   28           Private  338409  Bachelors             13   \n",
       "\n",
       "      maritial-status         occupation   relationshop   race     sex  \\\n",
       "0       Never-married       Adm-clerical  Not-in-family  White    Male   \n",
       "1  Married-civ-spouse    Exec-managerial        Husband  White    Male   \n",
       "2            Divorced  Handlers-cleaners  Not-in-family  White    Male   \n",
       "3  Married-civ-spouse  Handlers-cleaners        Husband  Black    Male   \n",
       "4  Married-civ-spouse     Prof-specialty           Wife  Black  Female   \n",
       "\n",
       "   capital-gain  capital-loss  hours-per-week native-country  \n",
       "0          2174             0              40  United-States  \n",
       "1             0             0              13  United-States  \n",
       "2             0             0              40  United-States  \n",
       "3             0             0              40  United-States  \n",
       "4             0             0              40           Cuba  "
      ]
     },
     "execution_count": 33,
     "metadata": {},
     "output_type": "execute_result"
    }
   ],
   "source": [
    "# Preview the train set\n",
    "train_df.head()"
   ]
  },
  {
   "cell_type": "code",
   "execution_count": 34,
   "metadata": {},
   "outputs": [
    {
     "name": "stdout",
     "output_type": "stream",
     "text": [
      "(26048, 14)\n"
     ]
    }
   ],
   "source": [
    "print(train_df.shape)"
   ]
  },
  {
   "cell_type": "code",
   "execution_count": 35,
   "metadata": {
    "id": "yyrmQLCm0a5V"
   },
   "outputs": [
    {
     "data": {
      "text/html": [
       "<div>\n",
       "<style scoped>\n",
       "    .dataframe tbody tr th:only-of-type {\n",
       "        vertical-align: middle;\n",
       "    }\n",
       "\n",
       "    .dataframe tbody tr th {\n",
       "        vertical-align: top;\n",
       "    }\n",
       "\n",
       "    .dataframe thead th {\n",
       "        text-align: right;\n",
       "    }\n",
       "</style>\n",
       "<table border=\"1\" class=\"dataframe\">\n",
       "  <thead>\n",
       "    <tr style=\"text-align: right;\">\n",
       "      <th></th>\n",
       "      <th>age</th>\n",
       "      <th>workclass</th>\n",
       "      <th>fnlwgt</th>\n",
       "      <th>education</th>\n",
       "      <th>education-num</th>\n",
       "      <th>maritial-status</th>\n",
       "      <th>occupation</th>\n",
       "      <th>relationshop</th>\n",
       "      <th>race</th>\n",
       "      <th>sex</th>\n",
       "      <th>capital-gain</th>\n",
       "      <th>capital-loss</th>\n",
       "      <th>hours-per-week</th>\n",
       "      <th>native-country</th>\n",
       "    </tr>\n",
       "  </thead>\n",
       "  <tbody>\n",
       "    <tr>\n",
       "      <th>26048</th>\n",
       "      <td>30</td>\n",
       "      <td>Private</td>\n",
       "      <td>270886</td>\n",
       "      <td>Some-college</td>\n",
       "      <td>10</td>\n",
       "      <td>Never-married</td>\n",
       "      <td>Other-service</td>\n",
       "      <td>Own-child</td>\n",
       "      <td>White</td>\n",
       "      <td>Female</td>\n",
       "      <td>0</td>\n",
       "      <td>0</td>\n",
       "      <td>40</td>\n",
       "      <td>United-States</td>\n",
       "    </tr>\n",
       "    <tr>\n",
       "      <th>26049</th>\n",
       "      <td>21</td>\n",
       "      <td>Private</td>\n",
       "      <td>216129</td>\n",
       "      <td>HS-grad</td>\n",
       "      <td>9</td>\n",
       "      <td>Never-married</td>\n",
       "      <td>Other-service</td>\n",
       "      <td>Own-child</td>\n",
       "      <td>White</td>\n",
       "      <td>Male</td>\n",
       "      <td>0</td>\n",
       "      <td>0</td>\n",
       "      <td>35</td>\n",
       "      <td>United-States</td>\n",
       "    </tr>\n",
       "    <tr>\n",
       "      <th>26050</th>\n",
       "      <td>33</td>\n",
       "      <td>Private</td>\n",
       "      <td>189368</td>\n",
       "      <td>Some-college</td>\n",
       "      <td>10</td>\n",
       "      <td>Married-civ-spouse</td>\n",
       "      <td>Transport-moving</td>\n",
       "      <td>Husband</td>\n",
       "      <td>Black</td>\n",
       "      <td>Male</td>\n",
       "      <td>0</td>\n",
       "      <td>0</td>\n",
       "      <td>40</td>\n",
       "      <td>United-States</td>\n",
       "    </tr>\n",
       "    <tr>\n",
       "      <th>26051</th>\n",
       "      <td>19</td>\n",
       "      <td>?</td>\n",
       "      <td>141418</td>\n",
       "      <td>Some-college</td>\n",
       "      <td>10</td>\n",
       "      <td>Never-married</td>\n",
       "      <td>?</td>\n",
       "      <td>Own-child</td>\n",
       "      <td>White</td>\n",
       "      <td>Male</td>\n",
       "      <td>0</td>\n",
       "      <td>0</td>\n",
       "      <td>15</td>\n",
       "      <td>United-States</td>\n",
       "    </tr>\n",
       "    <tr>\n",
       "      <th>26052</th>\n",
       "      <td>19</td>\n",
       "      <td>Private</td>\n",
       "      <td>306225</td>\n",
       "      <td>HS-grad</td>\n",
       "      <td>9</td>\n",
       "      <td>Never-married</td>\n",
       "      <td>Handlers-cleaners</td>\n",
       "      <td>Own-child</td>\n",
       "      <td>White</td>\n",
       "      <td>Male</td>\n",
       "      <td>0</td>\n",
       "      <td>0</td>\n",
       "      <td>25</td>\n",
       "      <td>United-States</td>\n",
       "    </tr>\n",
       "  </tbody>\n",
       "</table>\n",
       "</div>"
      ],
      "text/plain": [
       "       age workclass  fnlwgt     education  education-num     maritial-status  \\\n",
       "26048   30   Private  270886  Some-college             10       Never-married   \n",
       "26049   21   Private  216129       HS-grad              9       Never-married   \n",
       "26050   33   Private  189368  Some-college             10  Married-civ-spouse   \n",
       "26051   19         ?  141418  Some-college             10       Never-married   \n",
       "26052   19   Private  306225       HS-grad              9       Never-married   \n",
       "\n",
       "              occupation relationshop   race     sex  capital-gain  \\\n",
       "26048      Other-service    Own-child  White  Female             0   \n",
       "26049      Other-service    Own-child  White    Male             0   \n",
       "26050   Transport-moving      Husband  Black    Male             0   \n",
       "26051                  ?    Own-child  White    Male             0   \n",
       "26052  Handlers-cleaners    Own-child  White    Male             0   \n",
       "\n",
       "       capital-loss  hours-per-week native-country  \n",
       "26048             0              40  United-States  \n",
       "26049             0              35  United-States  \n",
       "26050             0              40  United-States  \n",
       "26051             0              15  United-States  \n",
       "26052             0              25  United-States  "
      ]
     },
     "execution_count": 35,
     "metadata": {},
     "output_type": "execute_result"
    }
   ],
   "source": [
    "# Preview the eval set\n",
    "eval_df.head()"
   ]
  },
  {
   "cell_type": "code",
   "execution_count": 36,
   "metadata": {},
   "outputs": [
    {
     "name": "stdout",
     "output_type": "stream",
     "text": [
      "(6513, 14)\n"
     ]
    }
   ],
   "source": [
    "print(eval_df.shape)"
   ]
  },
  {
   "cell_type": "markdown",
   "metadata": {
    "id": "12_uIoIjr9lv"
   },
   "source": [
    "From these few columns, you can get a first impression of the data. You will notice that most are strings and integers. There are also columns that are mostly zeroes. In the next sections, you will see how to use TFDV to aggregate and process this information so you can inspect it more easily."
   ]
  },
  {
   "cell_type": "markdown",
   "metadata": {},
   "source": [
    "### Adding extra rows\n",
    "\n",
    "To demonstrate how TFDV can detect anomalies later, you will add a few extra rows to the evaluation dataset. These are either malformed or have values that will trigger certain alarms later in this notebook. The code to add these can be seen in the `add_extra_rows()` function of `util.py` found in your Jupyter workspace. You can look at it later and even modify it after you've completed the entire exercise. For now, let's just execute the function and add the rows that we've defined by default."
   ]
  },
  {
   "cell_type": "code",
   "execution_count": 37,
   "metadata": {},
   "outputs": [
    {
     "name": "stderr",
     "output_type": "stream",
     "text": [
      "/home/liongkj/practice/coursera-machine-learning-engineering-for-prod-mlops-specialization/C2 - Machine Learning Data Lifecycle in Production/Week 1/util.py:72: FutureWarning: The frame.append method is deprecated and will be removed from pandas in a future version. Use pandas.concat instead.\n",
      "  df = df.append(rows, ignore_index=True)\n"
     ]
    },
    {
     "data": {
      "text/html": [
       "<div>\n",
       "<style scoped>\n",
       "    .dataframe tbody tr th:only-of-type {\n",
       "        vertical-align: middle;\n",
       "    }\n",
       "\n",
       "    .dataframe tbody tr th {\n",
       "        vertical-align: top;\n",
       "    }\n",
       "\n",
       "    .dataframe thead th {\n",
       "        text-align: right;\n",
       "    }\n",
       "</style>\n",
       "<table border=\"1\" class=\"dataframe\">\n",
       "  <thead>\n",
       "    <tr style=\"text-align: right;\">\n",
       "      <th></th>\n",
       "      <th>age</th>\n",
       "      <th>workclass</th>\n",
       "      <th>fnlwgt</th>\n",
       "      <th>education</th>\n",
       "      <th>education-num</th>\n",
       "      <th>maritial-status</th>\n",
       "      <th>occupation</th>\n",
       "      <th>relationshop</th>\n",
       "      <th>race</th>\n",
       "      <th>sex</th>\n",
       "      <th>capital-gain</th>\n",
       "      <th>capital-loss</th>\n",
       "      <th>hours-per-week</th>\n",
       "      <th>native-country</th>\n",
       "      <th>marital-status</th>\n",
       "      <th>relationship</th>\n",
       "      <th>label</th>\n",
       "    </tr>\n",
       "  </thead>\n",
       "  <tbody>\n",
       "    <tr>\n",
       "      <th>6513</th>\n",
       "      <td>46</td>\n",
       "      <td>NaN</td>\n",
       "      <td>257473</td>\n",
       "      <td>Bachelors</td>\n",
       "      <td>8</td>\n",
       "      <td>NaN</td>\n",
       "      <td>Plumber</td>\n",
       "      <td>NaN</td>\n",
       "      <td>Other</td>\n",
       "      <td>Male</td>\n",
       "      <td>1000</td>\n",
       "      <td>0</td>\n",
       "      <td>41</td>\n",
       "      <td>Australia</td>\n",
       "      <td>Married-civ-spouse</td>\n",
       "      <td>Husband</td>\n",
       "      <td>&gt;50K</td>\n",
       "    </tr>\n",
       "    <tr>\n",
       "      <th>6514</th>\n",
       "      <td>0</td>\n",
       "      <td>Private</td>\n",
       "      <td>257473</td>\n",
       "      <td>Masters</td>\n",
       "      <td>8</td>\n",
       "      <td>NaN</td>\n",
       "      <td>Adm-clerical</td>\n",
       "      <td>NaN</td>\n",
       "      <td>Asian</td>\n",
       "      <td>Female</td>\n",
       "      <td>0</td>\n",
       "      <td>0</td>\n",
       "      <td>40</td>\n",
       "      <td>Pakistan</td>\n",
       "      <td>Married-civ-spouse</td>\n",
       "      <td>Wife</td>\n",
       "      <td>&gt;50K</td>\n",
       "    </tr>\n",
       "    <tr>\n",
       "      <th>6515</th>\n",
       "      <td>1000</td>\n",
       "      <td>Private</td>\n",
       "      <td>257473</td>\n",
       "      <td>Masters</td>\n",
       "      <td>8</td>\n",
       "      <td>NaN</td>\n",
       "      <td>Prof-specialty</td>\n",
       "      <td>NaN</td>\n",
       "      <td>Black</td>\n",
       "      <td>Male</td>\n",
       "      <td>0</td>\n",
       "      <td>0</td>\n",
       "      <td>20</td>\n",
       "      <td>Cameroon</td>\n",
       "      <td>Married-civ-spouse</td>\n",
       "      <td>Husband</td>\n",
       "      <td>&lt;=50K</td>\n",
       "    </tr>\n",
       "    <tr>\n",
       "      <th>6516</th>\n",
       "      <td>25</td>\n",
       "      <td>?</td>\n",
       "      <td>257473</td>\n",
       "      <td>Masters</td>\n",
       "      <td>8</td>\n",
       "      <td>NaN</td>\n",
       "      <td>gamer</td>\n",
       "      <td>NaN</td>\n",
       "      <td>Asian</td>\n",
       "      <td>Female</td>\n",
       "      <td>0</td>\n",
       "      <td>0</td>\n",
       "      <td>50</td>\n",
       "      <td>Mongolia</td>\n",
       "      <td>Married-civ-spouse</td>\n",
       "      <td>Husband</td>\n",
       "      <td>&lt;=50K</td>\n",
       "    </tr>\n",
       "  </tbody>\n",
       "</table>\n",
       "</div>"
      ],
      "text/plain": [
       "       age workclass  fnlwgt  education  education-num maritial-status  \\\n",
       "6513    46       NaN  257473  Bachelors              8             NaN   \n",
       "6514     0   Private  257473    Masters              8             NaN   \n",
       "6515  1000   Private  257473    Masters              8             NaN   \n",
       "6516    25         ?  257473    Masters              8             NaN   \n",
       "\n",
       "          occupation relationshop   race     sex  capital-gain  capital-loss  \\\n",
       "6513         Plumber          NaN  Other    Male          1000             0   \n",
       "6514    Adm-clerical          NaN  Asian  Female             0             0   \n",
       "6515  Prof-specialty          NaN  Black    Male             0             0   \n",
       "6516           gamer          NaN  Asian  Female             0             0   \n",
       "\n",
       "      hours-per-week native-country      marital-status relationship  label  \n",
       "6513              41      Australia  Married-civ-spouse      Husband   >50K  \n",
       "6514              40       Pakistan  Married-civ-spouse         Wife   >50K  \n",
       "6515              20       Cameroon  Married-civ-spouse      Husband  <=50K  \n",
       "6516              50       Mongolia  Married-civ-spouse      Husband  <=50K  "
      ]
     },
     "execution_count": 37,
     "metadata": {},
     "output_type": "execute_result"
    }
   ],
   "source": [
    "# add extra rows\n",
    "eval_df = add_extra_rows(eval_df)\n",
    "\n",
    "# preview the added rows\n",
    "eval_df.tail(4)"
   ]
  },
  {
   "cell_type": "markdown",
   "metadata": {
    "id": "Duwwrsvf_9bK"
   },
   "source": [
    "## Generate and visualize training dataset statistics"
   ]
  },
  {
   "cell_type": "markdown",
   "metadata": {
    "id": "5Nm5E1HAgPU0"
   },
   "source": [
    "You can now compute and visualize the statistics of your training dataset. TFDV accepts three input formats: TensorFlow’s TFRecord, Pandas Dataframe, and CSV file. In this exercise, you will feed in the Pandas Dataframes you generated from the train-test split. \n",
    "\n",
    "You can compute your dataset statistics by using the [`generate_statistics_from_dataframe()`](https://www.tensorflow.org/tfx/data_validation/api_docs/python/tfdv/generate_statistics_from_dataframe) method. Under the hood, it distributes the analysis via [Apache Beam](https://beam.apache.org/) which allows it to scale over large datasets.\n",
    "\n",
    "The results returned by this step for numerical and categorical data are summarized in this table:\n",
    "\n",
    "| Numerical Data | Categorical Data   |\n",
    "|:-:|:-:|\n",
    "|Count of data records|Count of data records\n",
    "|% of missing data records|% of missing data records|\n",
    "|Mean, std, min, max|unique records|\n",
    "|% of zero values|Avg string length|\n"
   ]
  },
  {
   "cell_type": "code",
   "execution_count": 38,
   "metadata": {},
   "outputs": [
    {
     "data": {
      "text/html": [
       "<div>\n",
       "<style scoped>\n",
       "    .dataframe tbody tr th:only-of-type {\n",
       "        vertical-align: middle;\n",
       "    }\n",
       "\n",
       "    .dataframe tbody tr th {\n",
       "        vertical-align: top;\n",
       "    }\n",
       "\n",
       "    .dataframe thead th {\n",
       "        text-align: right;\n",
       "    }\n",
       "</style>\n",
       "<table border=\"1\" class=\"dataframe\">\n",
       "  <thead>\n",
       "    <tr style=\"text-align: right;\">\n",
       "      <th></th>\n",
       "      <th>age</th>\n",
       "      <th>workclass</th>\n",
       "      <th>fnlwgt</th>\n",
       "      <th>education</th>\n",
       "      <th>education-num</th>\n",
       "      <th>maritial-status</th>\n",
       "      <th>occupation</th>\n",
       "      <th>relationshop</th>\n",
       "      <th>race</th>\n",
       "      <th>sex</th>\n",
       "      <th>capital-gain</th>\n",
       "      <th>capital-loss</th>\n",
       "      <th>hours-per-week</th>\n",
       "      <th>native-country</th>\n",
       "    </tr>\n",
       "  </thead>\n",
       "  <tbody>\n",
       "    <tr>\n",
       "      <th>0</th>\n",
       "      <td>39</td>\n",
       "      <td>State-gov</td>\n",
       "      <td>77516</td>\n",
       "      <td>Bachelors</td>\n",
       "      <td>13</td>\n",
       "      <td>Never-married</td>\n",
       "      <td>Adm-clerical</td>\n",
       "      <td>Not-in-family</td>\n",
       "      <td>White</td>\n",
       "      <td>Male</td>\n",
       "      <td>2174</td>\n",
       "      <td>0</td>\n",
       "      <td>40</td>\n",
       "      <td>United-States</td>\n",
       "    </tr>\n",
       "    <tr>\n",
       "      <th>1</th>\n",
       "      <td>50</td>\n",
       "      <td>Self-emp-not-inc</td>\n",
       "      <td>83311</td>\n",
       "      <td>Bachelors</td>\n",
       "      <td>13</td>\n",
       "      <td>Married-civ-spouse</td>\n",
       "      <td>Exec-managerial</td>\n",
       "      <td>Husband</td>\n",
       "      <td>White</td>\n",
       "      <td>Male</td>\n",
       "      <td>0</td>\n",
       "      <td>0</td>\n",
       "      <td>13</td>\n",
       "      <td>United-States</td>\n",
       "    </tr>\n",
       "    <tr>\n",
       "      <th>2</th>\n",
       "      <td>38</td>\n",
       "      <td>Private</td>\n",
       "      <td>215646</td>\n",
       "      <td>HS-grad</td>\n",
       "      <td>9</td>\n",
       "      <td>Divorced</td>\n",
       "      <td>Handlers-cleaners</td>\n",
       "      <td>Not-in-family</td>\n",
       "      <td>White</td>\n",
       "      <td>Male</td>\n",
       "      <td>0</td>\n",
       "      <td>0</td>\n",
       "      <td>40</td>\n",
       "      <td>United-States</td>\n",
       "    </tr>\n",
       "    <tr>\n",
       "      <th>3</th>\n",
       "      <td>53</td>\n",
       "      <td>Private</td>\n",
       "      <td>234721</td>\n",
       "      <td>11th</td>\n",
       "      <td>7</td>\n",
       "      <td>Married-civ-spouse</td>\n",
       "      <td>Handlers-cleaners</td>\n",
       "      <td>Husband</td>\n",
       "      <td>Black</td>\n",
       "      <td>Male</td>\n",
       "      <td>0</td>\n",
       "      <td>0</td>\n",
       "      <td>40</td>\n",
       "      <td>United-States</td>\n",
       "    </tr>\n",
       "    <tr>\n",
       "      <th>4</th>\n",
       "      <td>28</td>\n",
       "      <td>Private</td>\n",
       "      <td>338409</td>\n",
       "      <td>Bachelors</td>\n",
       "      <td>13</td>\n",
       "      <td>Married-civ-spouse</td>\n",
       "      <td>Prof-specialty</td>\n",
       "      <td>Wife</td>\n",
       "      <td>Black</td>\n",
       "      <td>Female</td>\n",
       "      <td>0</td>\n",
       "      <td>0</td>\n",
       "      <td>40</td>\n",
       "      <td>Cuba</td>\n",
       "    </tr>\n",
       "    <tr>\n",
       "      <th>...</th>\n",
       "      <td>...</td>\n",
       "      <td>...</td>\n",
       "      <td>...</td>\n",
       "      <td>...</td>\n",
       "      <td>...</td>\n",
       "      <td>...</td>\n",
       "      <td>...</td>\n",
       "      <td>...</td>\n",
       "      <td>...</td>\n",
       "      <td>...</td>\n",
       "      <td>...</td>\n",
       "      <td>...</td>\n",
       "      <td>...</td>\n",
       "      <td>...</td>\n",
       "    </tr>\n",
       "    <tr>\n",
       "      <th>26043</th>\n",
       "      <td>42</td>\n",
       "      <td>Private</td>\n",
       "      <td>134220</td>\n",
       "      <td>Assoc-voc</td>\n",
       "      <td>11</td>\n",
       "      <td>Divorced</td>\n",
       "      <td>Exec-managerial</td>\n",
       "      <td>Own-child</td>\n",
       "      <td>Amer-Indian-Eskimo</td>\n",
       "      <td>Female</td>\n",
       "      <td>0</td>\n",
       "      <td>0</td>\n",
       "      <td>40</td>\n",
       "      <td>United-States</td>\n",
       "    </tr>\n",
       "    <tr>\n",
       "      <th>26044</th>\n",
       "      <td>42</td>\n",
       "      <td>Private</td>\n",
       "      <td>177989</td>\n",
       "      <td>HS-grad</td>\n",
       "      <td>9</td>\n",
       "      <td>Married-civ-spouse</td>\n",
       "      <td>Transport-moving</td>\n",
       "      <td>Husband</td>\n",
       "      <td>White</td>\n",
       "      <td>Male</td>\n",
       "      <td>0</td>\n",
       "      <td>0</td>\n",
       "      <td>40</td>\n",
       "      <td>United-States</td>\n",
       "    </tr>\n",
       "    <tr>\n",
       "      <th>26045</th>\n",
       "      <td>32</td>\n",
       "      <td>Private</td>\n",
       "      <td>164190</td>\n",
       "      <td>HS-grad</td>\n",
       "      <td>9</td>\n",
       "      <td>Married-civ-spouse</td>\n",
       "      <td>Handlers-cleaners</td>\n",
       "      <td>Husband</td>\n",
       "      <td>White</td>\n",
       "      <td>Male</td>\n",
       "      <td>0</td>\n",
       "      <td>0</td>\n",
       "      <td>30</td>\n",
       "      <td>United-States</td>\n",
       "    </tr>\n",
       "    <tr>\n",
       "      <th>26046</th>\n",
       "      <td>36</td>\n",
       "      <td>Private</td>\n",
       "      <td>90897</td>\n",
       "      <td>Assoc-acdm</td>\n",
       "      <td>12</td>\n",
       "      <td>Never-married</td>\n",
       "      <td>Tech-support</td>\n",
       "      <td>Not-in-family</td>\n",
       "      <td>White</td>\n",
       "      <td>Female</td>\n",
       "      <td>0</td>\n",
       "      <td>0</td>\n",
       "      <td>40</td>\n",
       "      <td>United-States</td>\n",
       "    </tr>\n",
       "    <tr>\n",
       "      <th>26047</th>\n",
       "      <td>41</td>\n",
       "      <td>State-gov</td>\n",
       "      <td>33126</td>\n",
       "      <td>Bachelors</td>\n",
       "      <td>13</td>\n",
       "      <td>Married-civ-spouse</td>\n",
       "      <td>Farming-fishing</td>\n",
       "      <td>Husband</td>\n",
       "      <td>White</td>\n",
       "      <td>Male</td>\n",
       "      <td>0</td>\n",
       "      <td>0</td>\n",
       "      <td>40</td>\n",
       "      <td>United-States</td>\n",
       "    </tr>\n",
       "  </tbody>\n",
       "</table>\n",
       "<p>26048 rows × 14 columns</p>\n",
       "</div>"
      ],
      "text/plain": [
       "       age         workclass  fnlwgt   education  education-num  \\\n",
       "0       39         State-gov   77516   Bachelors             13   \n",
       "1       50  Self-emp-not-inc   83311   Bachelors             13   \n",
       "2       38           Private  215646     HS-grad              9   \n",
       "3       53           Private  234721        11th              7   \n",
       "4       28           Private  338409   Bachelors             13   \n",
       "...    ...               ...     ...         ...            ...   \n",
       "26043   42           Private  134220   Assoc-voc             11   \n",
       "26044   42           Private  177989     HS-grad              9   \n",
       "26045   32           Private  164190     HS-grad              9   \n",
       "26046   36           Private   90897  Assoc-acdm             12   \n",
       "26047   41         State-gov   33126   Bachelors             13   \n",
       "\n",
       "          maritial-status         occupation   relationshop  \\\n",
       "0           Never-married       Adm-clerical  Not-in-family   \n",
       "1      Married-civ-spouse    Exec-managerial        Husband   \n",
       "2                Divorced  Handlers-cleaners  Not-in-family   \n",
       "3      Married-civ-spouse  Handlers-cleaners        Husband   \n",
       "4      Married-civ-spouse     Prof-specialty           Wife   \n",
       "...                   ...                ...            ...   \n",
       "26043            Divorced    Exec-managerial      Own-child   \n",
       "26044  Married-civ-spouse   Transport-moving        Husband   \n",
       "26045  Married-civ-spouse  Handlers-cleaners        Husband   \n",
       "26046       Never-married       Tech-support  Not-in-family   \n",
       "26047  Married-civ-spouse    Farming-fishing        Husband   \n",
       "\n",
       "                     race     sex  capital-gain  capital-loss  hours-per-week  \\\n",
       "0                   White    Male          2174             0              40   \n",
       "1                   White    Male             0             0              13   \n",
       "2                   White    Male             0             0              40   \n",
       "3                   Black    Male             0             0              40   \n",
       "4                   Black  Female             0             0              40   \n",
       "...                   ...     ...           ...           ...             ...   \n",
       "26043  Amer-Indian-Eskimo  Female             0             0              40   \n",
       "26044               White    Male             0             0              40   \n",
       "26045               White    Male             0             0              30   \n",
       "26046               White  Female             0             0              40   \n",
       "26047               White    Male             0             0              40   \n",
       "\n",
       "      native-country  \n",
       "0      United-States  \n",
       "1      United-States  \n",
       "2      United-States  \n",
       "3      United-States  \n",
       "4               Cuba  \n",
       "...              ...  \n",
       "26043  United-States  \n",
       "26044  United-States  \n",
       "26045  United-States  \n",
       "26046  United-States  \n",
       "26047  United-States  \n",
       "\n",
       "[26048 rows x 14 columns]"
      ]
     },
     "execution_count": 38,
     "metadata": {},
     "output_type": "execute_result"
    }
   ],
   "source": [
    "train_df"
   ]
  },
  {
   "cell_type": "code",
   "execution_count": 39,
   "metadata": {
    "id": "_vTx9Qkk4yGc"
   },
   "outputs": [],
   "source": [
    "# Generate training dataset statistics\n",
    "train_stats = tfdv.generate_statistics_from_dataframe(train_df)"
   ]
  },
  {
   "cell_type": "markdown",
   "metadata": {
    "id": "86nhDglwuilJ"
   },
   "source": [
    "Once you've generated the statistics, you can easily visualize your results with the [`visualize_statistics()`](https://www.tensorflow.org/tfx/data_validation/api_docs/python/tfdv/visualize_statistics) method. This shows a [Facets interface](https://pair-code.github.io/facets/) and is very useful to spot if you have a high amount of missing data or high standard deviation. Run the cell below and explore the different settings in the output interface (e.g. Sort by, Reverse order, Feature search)."
   ]
  },
  {
   "cell_type": "code",
   "execution_count": 40,
   "metadata": {
    "id": "1D1wP3mm5ebW",
    "scrolled": true
   },
   "outputs": [
    {
     "data": {
      "text/html": [
       "<iframe id='facets-iframe' width=\"100%\" height=\"500px\"></iframe>\n",
       "        <script>\n",
       "        facets_iframe = document.getElementById('facets-iframe');\n",
       "        facets_html = '<script src=\"https://cdnjs.cloudflare.com/ajax/libs/webcomponentsjs/1.3.3/webcomponents-lite.js\"><\\/script><link rel=\"import\" href=\"https://raw.githubusercontent.com/PAIR-code/facets/master/facets-dist/facets-jupyter.html\"><facets-overview proto-input=\"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\"></facets-overview>';\n",
       "        facets_iframe.srcdoc = facets_html;\n",
       "         facets_iframe.id = \"\";\n",
       "         setTimeout(() => {\n",
       "           facets_iframe.setAttribute('height', facets_iframe.contentWindow.document.body.offsetHeight + 'px')\n",
       "         }, 1500)\n",
       "         </script>"
      ],
      "text/plain": [
       "<IPython.core.display.HTML object>"
      ]
     },
     "metadata": {},
     "output_type": "display_data"
    }
   ],
   "source": [
    "# Visualize training dataset statistics\n",
    "tfdv.visualize_statistics(train_stats)"
   ]
  },
  {
   "cell_type": "markdown",
   "metadata": {
    "id": "DVQTOBpdgPU0"
   },
   "source": [
    "## Infer data schema"
   ]
  },
  {
   "cell_type": "markdown",
   "metadata": {
    "id": "Ya6ecHE9gPU1"
   },
   "source": [
    "Next step is to create a data schema to describe your train set. Simply put, a schema describes standard characteristics of your data such as column data types and expected data value range. The schema is created on a dataset that you consider as reference, and can be reused to validate other incoming datasets.\n",
    "\n",
    "With the computed statistics, TFDV allows you to automatically generate an initial version of the schema using the [`infer_schema()`](https://www.tensorflow.org/tfx/data_validation/api_docs/python/tfdv/infer_schema) method. This returns a Schema [protocol buffer](https://developers.google.com/protocol-buffers) containing the result. As mentioned in the [TFX paper](http://stevenwhang.com/tfx_paper.pdf) (Section 3.3), the results of the schema inference can be summarized as follows:\n",
    "\n",
    "* The expected type of each feature.\n",
    "* The expected presence of each feature, in terms of a minimum count and fraction of examples that must contain\n",
    "the feature.\n",
    "* The expected valency of the feature in each example, i.e.,\n",
    "minimum and maximum number of values.\n",
    "* The expected domain of a feature, i.e., the small universe of\n",
    "values for a string feature, or range for an integer feature.\n",
    "\n",
    "Run the cell below to infer the training dataset schema."
   ]
  },
  {
   "cell_type": "code",
   "execution_count": 41,
   "metadata": {
    "id": "W9skjM-M44Jz"
   },
   "outputs": [
    {
     "data": {
      "text/html": [
       "<div>\n",
       "<style scoped>\n",
       "    .dataframe tbody tr th:only-of-type {\n",
       "        vertical-align: middle;\n",
       "    }\n",
       "\n",
       "    .dataframe tbody tr th {\n",
       "        vertical-align: top;\n",
       "    }\n",
       "\n",
       "    .dataframe thead th {\n",
       "        text-align: right;\n",
       "    }\n",
       "</style>\n",
       "<table border=\"1\" class=\"dataframe\">\n",
       "  <thead>\n",
       "    <tr style=\"text-align: right;\">\n",
       "      <th></th>\n",
       "      <th>Type</th>\n",
       "      <th>Presence</th>\n",
       "      <th>Valency</th>\n",
       "      <th>Domain</th>\n",
       "    </tr>\n",
       "    <tr>\n",
       "      <th>Feature name</th>\n",
       "      <th></th>\n",
       "      <th></th>\n",
       "      <th></th>\n",
       "      <th></th>\n",
       "    </tr>\n",
       "  </thead>\n",
       "  <tbody>\n",
       "    <tr>\n",
       "      <th>'age'</th>\n",
       "      <td>INT</td>\n",
       "      <td>required</td>\n",
       "      <td></td>\n",
       "      <td>-</td>\n",
       "    </tr>\n",
       "    <tr>\n",
       "      <th>'workclass'</th>\n",
       "      <td>STRING</td>\n",
       "      <td>required</td>\n",
       "      <td></td>\n",
       "      <td>'workclass'</td>\n",
       "    </tr>\n",
       "    <tr>\n",
       "      <th>'fnlwgt'</th>\n",
       "      <td>INT</td>\n",
       "      <td>required</td>\n",
       "      <td></td>\n",
       "      <td>-</td>\n",
       "    </tr>\n",
       "    <tr>\n",
       "      <th>'education'</th>\n",
       "      <td>STRING</td>\n",
       "      <td>required</td>\n",
       "      <td></td>\n",
       "      <td>'education'</td>\n",
       "    </tr>\n",
       "    <tr>\n",
       "      <th>'education-num'</th>\n",
       "      <td>INT</td>\n",
       "      <td>required</td>\n",
       "      <td></td>\n",
       "      <td>-</td>\n",
       "    </tr>\n",
       "    <tr>\n",
       "      <th>'maritial-status'</th>\n",
       "      <td>STRING</td>\n",
       "      <td>required</td>\n",
       "      <td></td>\n",
       "      <td>'maritial-status'</td>\n",
       "    </tr>\n",
       "    <tr>\n",
       "      <th>'occupation'</th>\n",
       "      <td>STRING</td>\n",
       "      <td>required</td>\n",
       "      <td></td>\n",
       "      <td>'occupation'</td>\n",
       "    </tr>\n",
       "    <tr>\n",
       "      <th>'relationshop'</th>\n",
       "      <td>STRING</td>\n",
       "      <td>required</td>\n",
       "      <td></td>\n",
       "      <td>'relationshop'</td>\n",
       "    </tr>\n",
       "    <tr>\n",
       "      <th>'race'</th>\n",
       "      <td>STRING</td>\n",
       "      <td>required</td>\n",
       "      <td></td>\n",
       "      <td>'race'</td>\n",
       "    </tr>\n",
       "    <tr>\n",
       "      <th>'sex'</th>\n",
       "      <td>STRING</td>\n",
       "      <td>required</td>\n",
       "      <td></td>\n",
       "      <td>'sex'</td>\n",
       "    </tr>\n",
       "    <tr>\n",
       "      <th>'capital-gain'</th>\n",
       "      <td>INT</td>\n",
       "      <td>required</td>\n",
       "      <td></td>\n",
       "      <td>-</td>\n",
       "    </tr>\n",
       "    <tr>\n",
       "      <th>'capital-loss'</th>\n",
       "      <td>INT</td>\n",
       "      <td>required</td>\n",
       "      <td></td>\n",
       "      <td>-</td>\n",
       "    </tr>\n",
       "    <tr>\n",
       "      <th>'hours-per-week'</th>\n",
       "      <td>INT</td>\n",
       "      <td>required</td>\n",
       "      <td></td>\n",
       "      <td>-</td>\n",
       "    </tr>\n",
       "    <tr>\n",
       "      <th>'native-country'</th>\n",
       "      <td>STRING</td>\n",
       "      <td>required</td>\n",
       "      <td></td>\n",
       "      <td>'native-country'</td>\n",
       "    </tr>\n",
       "  </tbody>\n",
       "</table>\n",
       "</div>"
      ],
      "text/plain": [
       "                     Type  Presence Valency             Domain\n",
       "Feature name                                                  \n",
       "'age'                 INT  required                          -\n",
       "'workclass'        STRING  required                'workclass'\n",
       "'fnlwgt'              INT  required                          -\n",
       "'education'        STRING  required                'education'\n",
       "'education-num'       INT  required                          -\n",
       "'maritial-status'  STRING  required          'maritial-status'\n",
       "'occupation'       STRING  required               'occupation'\n",
       "'relationshop'     STRING  required             'relationshop'\n",
       "'race'             STRING  required                     'race'\n",
       "'sex'              STRING  required                      'sex'\n",
       "'capital-gain'        INT  required                          -\n",
       "'capital-loss'        INT  required                          -\n",
       "'hours-per-week'      INT  required                          -\n",
       "'native-country'   STRING  required           'native-country'"
      ]
     },
     "metadata": {},
     "output_type": "display_data"
    },
    {
     "data": {
      "text/html": [
       "<div>\n",
       "<style scoped>\n",
       "    .dataframe tbody tr th:only-of-type {\n",
       "        vertical-align: middle;\n",
       "    }\n",
       "\n",
       "    .dataframe tbody tr th {\n",
       "        vertical-align: top;\n",
       "    }\n",
       "\n",
       "    .dataframe thead th {\n",
       "        text-align: right;\n",
       "    }\n",
       "</style>\n",
       "<table border=\"1\" class=\"dataframe\">\n",
       "  <thead>\n",
       "    <tr style=\"text-align: right;\">\n",
       "      <th></th>\n",
       "      <th>Values</th>\n",
       "    </tr>\n",
       "    <tr>\n",
       "      <th>Domain</th>\n",
       "      <th></th>\n",
       "    </tr>\n",
       "  </thead>\n",
       "  <tbody>\n",
       "    <tr>\n",
       "      <th>'workclass'</th>\n",
       "      <td>'?', 'Federal-gov', 'Local-gov', 'Never-worked', 'Private', 'Self-emp-inc', 'Self-emp-not-inc', 'State-gov', 'Without-pay'</td>\n",
       "    </tr>\n",
       "    <tr>\n",
       "      <th>'education'</th>\n",
       "      <td>'10th', '11th', '12th', '1st-4th', '5th-6th', '7th-8th', '9th', 'Assoc-acdm', 'Assoc-voc', 'Bachelors', 'Doctorate', 'HS-grad', 'Masters', 'Preschool', 'Prof-school', 'Some-college'</td>\n",
       "    </tr>\n",
       "    <tr>\n",
       "      <th>'maritial-status'</th>\n",
       "      <td>'Divorced', 'Married-AF-spouse', 'Married-civ-spouse', 'Married-spouse-absent', 'Never-married', 'Separated', 'Widowed'</td>\n",
       "    </tr>\n",
       "    <tr>\n",
       "      <th>'occupation'</th>\n",
       "      <td>'?', 'Adm-clerical', 'Armed-Forces', 'Craft-repair', 'Exec-managerial', 'Farming-fishing', 'Handlers-cleaners', 'Machine-op-inspct', 'Other-service', 'Priv-house-serv', 'Prof-specialty', 'Protective-serv', 'Sales', 'Tech-support', 'Transport-moving'</td>\n",
       "    </tr>\n",
       "    <tr>\n",
       "      <th>'relationshop'</th>\n",
       "      <td>'Husband', 'Not-in-family', 'Other-relative', 'Own-child', 'Unmarried', 'Wife'</td>\n",
       "    </tr>\n",
       "    <tr>\n",
       "      <th>'race'</th>\n",
       "      <td>'Amer-Indian-Eskimo', 'Asian-Pac-Islander', 'Black', 'Other', 'White'</td>\n",
       "    </tr>\n",
       "    <tr>\n",
       "      <th>'sex'</th>\n",
       "      <td>'Female', 'Male'</td>\n",
       "    </tr>\n",
       "    <tr>\n",
       "      <th>'native-country'</th>\n",
       "      <td>'?', 'Cambodia', 'Canada', 'China', 'Columbia', 'Cuba', 'Dominican-Republic', 'Ecuador', 'El-Salvador', 'England', 'France', 'Germany', 'Greece', 'Guatemala', 'Haiti', 'Holand-Netherlands', 'Honduras', 'Hong', 'Hungary', 'India', 'Iran', 'Ireland', 'Italy', 'Jamaica', 'Japan', 'Laos', 'Mexico', 'Nicaragua', 'Outlying-US(Guam-USVI-etc)', 'Peru', 'Philippines', 'Poland', 'Portugal', 'Puerto-Rico', 'Scotland', 'South', 'Taiwan', 'Thailand', 'Trinadad&amp;Tobago', 'United-States', 'Vietnam', 'Yugoslavia'</td>\n",
       "    </tr>\n",
       "  </tbody>\n",
       "</table>\n",
       "</div>"
      ],
      "text/plain": [
       "                                                                                                                                                                                                                                                                                                                                                                                                                                                                                                                                  Values\n",
       "Domain                                                                                                                                                                                                                                                                                                                                                                                                                                                                                                                                  \n",
       "'workclass'                                                                                                                                                                                                                                                                                                                                                                                                   '?', 'Federal-gov', 'Local-gov', 'Never-worked', 'Private', 'Self-emp-inc', 'Self-emp-not-inc', 'State-gov', 'Without-pay'\n",
       "'education'                                                                                                                                                                                                                                                                                                                                        '10th', '11th', '12th', '1st-4th', '5th-6th', '7th-8th', '9th', 'Assoc-acdm', 'Assoc-voc', 'Bachelors', 'Doctorate', 'HS-grad', 'Masters', 'Preschool', 'Prof-school', 'Some-college'\n",
       "'maritial-status'                                                                                                                                                                                                                                                                                                                                                                                                'Divorced', 'Married-AF-spouse', 'Married-civ-spouse', 'Married-spouse-absent', 'Never-married', 'Separated', 'Widowed'\n",
       "'occupation'                                                                                                                                                                                                                                                                   '?', 'Adm-clerical', 'Armed-Forces', 'Craft-repair', 'Exec-managerial', 'Farming-fishing', 'Handlers-cleaners', 'Machine-op-inspct', 'Other-service', 'Priv-house-serv', 'Prof-specialty', 'Protective-serv', 'Sales', 'Tech-support', 'Transport-moving'\n",
       "'relationshop'                                                                                                                                                                                                                                                                                                                                                                                                                                            'Husband', 'Not-in-family', 'Other-relative', 'Own-child', 'Unmarried', 'Wife'\n",
       "'race'                                                                                                                                                                                                                                                                                                                                                                                                                                                             'Amer-Indian-Eskimo', 'Asian-Pac-Islander', 'Black', 'Other', 'White'\n",
       "'sex'                                                                                                                                                                                                                                                                                                                                                                                                                                                                                                                   'Female', 'Male'\n",
       "'native-country'   '?', 'Cambodia', 'Canada', 'China', 'Columbia', 'Cuba', 'Dominican-Republic', 'Ecuador', 'El-Salvador', 'England', 'France', 'Germany', 'Greece', 'Guatemala', 'Haiti', 'Holand-Netherlands', 'Honduras', 'Hong', 'Hungary', 'India', 'Iran', 'Ireland', 'Italy', 'Jamaica', 'Japan', 'Laos', 'Mexico', 'Nicaragua', 'Outlying-US(Guam-USVI-etc)', 'Peru', 'Philippines', 'Poland', 'Portugal', 'Puerto-Rico', 'Scotland', 'South', 'Taiwan', 'Thailand', 'Trinadad&Tobago', 'United-States', 'Vietnam', 'Yugoslavia'"
      ]
     },
     "metadata": {},
     "output_type": "display_data"
    }
   ],
   "source": [
    "# Infer schema from the computed statistics.\n",
    "schema = tfdv.infer_schema(statistics=train_stats)\n",
    "\n",
    "# train_stats\n",
    "# Display the inferred schema\n",
    "tfdv.display_schema(schema)"
   ]
  },
  {
   "cell_type": "markdown",
   "metadata": {
    "id": "5oj_GIprgPU1"
   },
   "source": [
    "## Generate and visualize evaluation dataset statistics"
   ]
  },
  {
   "cell_type": "markdown",
   "metadata": {
    "id": "rTYMPukogPU1"
   },
   "source": [
    "The next step after generating the schema is to now look at the evaluation dataset. You will begin by computing its statistics then compare it with the training statistics. It is important that the numerical and categorical features of the evaluation data belongs roughly to the same range as the training data. Otherwise, you might have distribution skew that will negatively affect the accuracy of your model.\n",
    "\n",
    "TFDV allows you to generate both the training and evaluation dataset statistics side-by-side. You can use the [`visualize_statistics()`](https://www.tensorflow.org/tfx/data_validation/api_docs/python/tfdv/visualize_statistics) function and pass additional parameters to overlay the statistics from both datasets (referenced as left-hand side and right-hand side statistics). Let's see what these parameters are:\n",
    "\n",
    "- `lhs_statistics`: Required parameter. Expects an instance of `DatasetFeatureStatisticsList `.\n",
    "\n",
    "\n",
    "- `rhs_statistics`: Expects an instance of `DatasetFeatureStatisticsList ` to compare with `lhs_statistics`.\n",
    "\n",
    "\n",
    "- `lhs_name`: Name of the `lhs_statistics` dataset.\n",
    "\n",
    "\n",
    "- `rhs_name`: Name of the `rhs_statistics` dataset."
   ]
  },
  {
   "cell_type": "code",
   "execution_count": 42,
   "metadata": {
    "id": "bzZy1x3c6Mi0",
    "scrolled": true
   },
   "outputs": [
    {
     "data": {
      "text/html": [
       "<iframe id='facets-iframe' width=\"100%\" height=\"500px\"></iframe>\n",
       "        <script>\n",
       "        facets_iframe = document.getElementById('facets-iframe');\n",
       "        facets_html = '<script src=\"https://cdnjs.cloudflare.com/ajax/libs/webcomponentsjs/1.3.3/webcomponents-lite.js\"><\\/script><link rel=\"import\" href=\"https://raw.githubusercontent.com/PAIR-code/facets/master/facets-dist/facets-jupyter.html\"><facets-overview proto-input=\"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\"></facets-overview>';\n",
       "        facets_iframe.srcdoc = facets_html;\n",
       "         facets_iframe.id = \"\";\n",
       "         setTimeout(() => {\n",
       "           facets_iframe.setAttribute('height', facets_iframe.contentWindow.document.body.offsetHeight + 'px')\n",
       "         }, 1500)\n",
       "         </script>"
      ],
      "text/plain": [
       "<IPython.core.display.HTML object>"
      ]
     },
     "metadata": {},
     "output_type": "display_data"
    }
   ],
   "source": [
    "# Generate evaluation dataset statistics\n",
    "eval_stats = tfdv.generate_statistics_from_dataframe(eval_df)\n",
    "\n",
    "# Compare training with evaluation\n",
    "tfdv.visualize_statistics(\n",
    "    lhs_statistics=eval_stats, \n",
    "    rhs_statistics=train_stats, \n",
    "    lhs_name='EVAL_DATASET', \n",
    "    rhs_name='TRAIN_DATASET'\n",
    ")"
   ]
  },
  {
   "cell_type": "markdown",
   "metadata": {
    "id": "GODDgoHdgPU2"
   },
   "source": [
    "We encourage you to observe the results generated and toggle the menus to practice manipulating the visualization (e.g. sort by missing/zeroes). You'll notice that TFDV detects the malformed rows we introduced earlier. First, the `min` and `max` values of the `age` row shows `0` and `1000`, respectively. We know that those values do not make sense if we're talking about working adults. Secondly, the `workclass` row in the Categorical Features says that `0.02%` of the data is missing that particular attribute. Let's drop these rows to make the data more clean."
   ]
  },
  {
   "cell_type": "code",
   "execution_count": 43,
   "metadata": {},
   "outputs": [],
   "source": [
    "# filter the age range\n",
    "eval_df = eval_df[eval_df['age'] > 16]\n",
    "eval_df = eval_df[eval_df['age'] < 91]\n",
    "\n",
    "# drop missing values\n",
    "eval_df.dropna(inplace=True)"
   ]
  },
  {
   "cell_type": "markdown",
   "metadata": {},
   "source": [
    "You can then compute the statistics again and see the difference in the results."
   ]
  },
  {
   "cell_type": "code",
   "execution_count": 44,
   "metadata": {},
   "outputs": [
    {
     "data": {
      "text/html": [
       "<iframe id='facets-iframe' width=\"100%\" height=\"500px\"></iframe>\n",
       "        <script>\n",
       "        facets_iframe = document.getElementById('facets-iframe');\n",
       "        facets_html = '<script src=\"https://cdnjs.cloudflare.com/ajax/libs/webcomponentsjs/1.3.3/webcomponents-lite.js\"><\\/script><link rel=\"import\" href=\"https://raw.githubusercontent.com/PAIR-code/facets/master/facets-dist/facets-jupyter.html\"><facets-overview proto-input=\"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\"></facets-overview>';\n",
       "        facets_iframe.srcdoc = facets_html;\n",
       "         facets_iframe.id = \"\";\n",
       "         setTimeout(() => {\n",
       "           facets_iframe.setAttribute('height', facets_iframe.contentWindow.document.body.offsetHeight + 'px')\n",
       "         }, 1500)\n",
       "         </script>"
      ],
      "text/plain": [
       "<IPython.core.display.HTML object>"
      ]
     },
     "metadata": {},
     "output_type": "display_data"
    }
   ],
   "source": [
    "# Generate evaluation dataset statistics\n",
    "eval_stats = tfdv.generate_statistics_from_dataframe(eval_df)\n",
    "\n",
    "# Compare training with evaluation\n",
    "tfdv.visualize_statistics(\n",
    "    lhs_statistics=eval_stats, \n",
    "    rhs_statistics=train_stats, \n",
    "    lhs_name='EVAL_DATASET', \n",
    "    rhs_name='TRAIN_DATASET'\n",
    ")"
   ]
  },
  {
   "cell_type": "markdown",
   "metadata": {
    "id": "J3Lvnr-YgPU2"
   },
   "source": [
    "## Calculate and display evaluation anomalies"
   ]
  },
  {
   "cell_type": "markdown",
   "metadata": {
    "id": "D1D9bNcigPU2"
   },
   "source": [
    "You can use your reference schema to check for anomalies such as new values for a specific feature in the evaluation data. Detected anomalies can either be considered a real error that needs to be cleaned, or depending on your domain knowledge and the specific case, they can be accepted. \n",
    "\n",
    "Let's detect and display evaluation anomalies and see if there are any problems that need to be addressed."
   ]
  },
  {
   "cell_type": "code",
   "execution_count": 45,
   "metadata": {
    "id": "OR5dBqpW6ky2"
   },
   "outputs": [
    {
     "data": {
      "text/html": [
       "<h4 style=\"color:green;\">No anomalies found.</h4>"
      ],
      "text/plain": [
       "<IPython.core.display.HTML object>"
      ]
     },
     "metadata": {},
     "output_type": "display_data"
    }
   ],
   "source": [
    "# Check evaluation data for errors by validating the evaluation dataset statistics using the reference schema\n",
    "anomalies =  tfdv.validate_statistics(statistics=eval_stats, schema=schema)\n",
    "\n",
    "# Visualize anomalies\n",
    "tfdv.display_anomalies(anomalies)"
   ]
  },
  {
   "cell_type": "markdown",
   "metadata": {
    "id": "HeEvhvgqzLu-"
   },
   "source": [
    "## Revising the Schema\n",
    "\n",
    "As shown in the results above, TFDV is able to detect the remaining irregularities we introduced earlier. The short and long descriptions tell us what were detected. As expected, there are string values for `race`, `native-country` and `occupation` that are not found in the domain of the training set schema (you might see a different result if the shuffling of the datasets was applied). What you decide to do about the anomalies depend on your domain knowledge of the data. If an anomaly indicates a data error, then the underlying data should be fixed. Otherwise, you can update the schema to include the values in the evaluation dataset.\n",
    "\n",
    "TFDV provides a set of utility methods and parameters that you can use for revising the inferred schema. This [reference](https://www.tensorflow.org/tfx/data_validation/anomalies) lists down the type of anomalies and the parameters that you can edit but we'll focus only on a couple here.\n",
    "\n",
    "- You can relax the minimum fraction of values that must come from the domain of a particular feature (as described by `ENUM_TYPE_UNEXPECTED_STRING_VALUES` in the [reference](https://www.tensorflow.org/tfx/data_validation/anomalies)):\n",
    "\n",
    "```python\n",
    "tfdv.get_feature(schema, 'feature_column_name').distribution_constraints.min_domain_mass = <float: 0.0 to 1.0>\n",
    "```\n",
    "\n",
    "- You can add a new value to the domain of a particular feature:\n",
    "\n",
    "```python\n",
    "tfdv.get_feature(schema, 'feature_column_name').value.append('string')\n",
    "```\n",
    "\n",
    "Let's use these in the next section."
   ]
  },
  {
   "cell_type": "markdown",
   "metadata": {
    "id": "HKECg6Lf6-ks"
   },
   "source": [
    "## Fix anomalies in the schema\n",
    "\n",
    "Let's say that we want to accept the string anomalies reported as valid. If you want to tolerate a fraction of missing values from the evaluation dataset, you can do it like this:"
   ]
  },
  {
   "cell_type": "code",
   "execution_count": 46,
   "metadata": {},
   "outputs": [],
   "source": [
    "# Relax the minimum fraction of values that must come from the domain for the feature `native-country`\n",
    "country_feature = tfdv.get_feature(schema, 'native-country')\n",
    "country_feature.distribution_constraints.min_domain_mass = 0.9\n",
    "\n",
    "# Relax the minimum fraction of values that must come from the domain for the feature `occupation`\n",
    "occupation_feature = tfdv.get_feature(schema, 'occupation')\n",
    "occupation_feature.distribution_constraints.min_domain_mass = 0.9"
   ]
  },
  {
   "cell_type": "markdown",
   "metadata": {},
   "source": [
    "If you want to be rigid and instead add only valid values to the domain, you can do it like this:"
   ]
  },
  {
   "cell_type": "code",
   "execution_count": 47,
   "metadata": {
    "id": "hTCWS04p6lDh"
   },
   "outputs": [],
   "source": [
    "# Add new value to the domain of the feature `race`\n",
    "race_domain = tfdv.get_domain(schema, 'race')\n",
    "race_domain.value.append('Asian')"
   ]
  },
  {
   "cell_type": "markdown",
   "metadata": {},
   "source": [
    "In addition, you can also restrict the range of a numerical feature. This will let you know of invalid values without having to inspect it visually (e.g. the invalid `age` values earlier)."
   ]
  },
  {
   "cell_type": "code",
   "execution_count": 48,
   "metadata": {},
   "outputs": [
    {
     "data": {
      "text/html": [
       "<div>\n",
       "<style scoped>\n",
       "    .dataframe tbody tr th:only-of-type {\n",
       "        vertical-align: middle;\n",
       "    }\n",
       "\n",
       "    .dataframe tbody tr th {\n",
       "        vertical-align: top;\n",
       "    }\n",
       "\n",
       "    .dataframe thead th {\n",
       "        text-align: right;\n",
       "    }\n",
       "</style>\n",
       "<table border=\"1\" class=\"dataframe\">\n",
       "  <thead>\n",
       "    <tr style=\"text-align: right;\">\n",
       "      <th></th>\n",
       "      <th>Type</th>\n",
       "      <th>Presence</th>\n",
       "      <th>Valency</th>\n",
       "      <th>Domain</th>\n",
       "    </tr>\n",
       "    <tr>\n",
       "      <th>Feature name</th>\n",
       "      <th></th>\n",
       "      <th></th>\n",
       "      <th></th>\n",
       "      <th></th>\n",
       "    </tr>\n",
       "  </thead>\n",
       "  <tbody>\n",
       "    <tr>\n",
       "      <th>'age'</th>\n",
       "      <td>INT</td>\n",
       "      <td>required</td>\n",
       "      <td></td>\n",
       "      <td>min: 17; max: 90</td>\n",
       "    </tr>\n",
       "    <tr>\n",
       "      <th>'workclass'</th>\n",
       "      <td>STRING</td>\n",
       "      <td>required</td>\n",
       "      <td></td>\n",
       "      <td>'workclass'</td>\n",
       "    </tr>\n",
       "    <tr>\n",
       "      <th>'fnlwgt'</th>\n",
       "      <td>INT</td>\n",
       "      <td>required</td>\n",
       "      <td></td>\n",
       "      <td>-</td>\n",
       "    </tr>\n",
       "    <tr>\n",
       "      <th>'education'</th>\n",
       "      <td>STRING</td>\n",
       "      <td>required</td>\n",
       "      <td></td>\n",
       "      <td>'education'</td>\n",
       "    </tr>\n",
       "    <tr>\n",
       "      <th>'education-num'</th>\n",
       "      <td>INT</td>\n",
       "      <td>required</td>\n",
       "      <td></td>\n",
       "      <td>-</td>\n",
       "    </tr>\n",
       "    <tr>\n",
       "      <th>'maritial-status'</th>\n",
       "      <td>STRING</td>\n",
       "      <td>required</td>\n",
       "      <td></td>\n",
       "      <td>'maritial-status'</td>\n",
       "    </tr>\n",
       "    <tr>\n",
       "      <th>'occupation'</th>\n",
       "      <td>STRING</td>\n",
       "      <td>required</td>\n",
       "      <td></td>\n",
       "      <td>'occupation'</td>\n",
       "    </tr>\n",
       "    <tr>\n",
       "      <th>'relationshop'</th>\n",
       "      <td>STRING</td>\n",
       "      <td>required</td>\n",
       "      <td></td>\n",
       "      <td>'relationshop'</td>\n",
       "    </tr>\n",
       "    <tr>\n",
       "      <th>'race'</th>\n",
       "      <td>STRING</td>\n",
       "      <td>required</td>\n",
       "      <td></td>\n",
       "      <td>'race'</td>\n",
       "    </tr>\n",
       "    <tr>\n",
       "      <th>'sex'</th>\n",
       "      <td>STRING</td>\n",
       "      <td>required</td>\n",
       "      <td></td>\n",
       "      <td>'sex'</td>\n",
       "    </tr>\n",
       "    <tr>\n",
       "      <th>'capital-gain'</th>\n",
       "      <td>INT</td>\n",
       "      <td>required</td>\n",
       "      <td></td>\n",
       "      <td>-</td>\n",
       "    </tr>\n",
       "    <tr>\n",
       "      <th>'capital-loss'</th>\n",
       "      <td>INT</td>\n",
       "      <td>required</td>\n",
       "      <td></td>\n",
       "      <td>-</td>\n",
       "    </tr>\n",
       "    <tr>\n",
       "      <th>'hours-per-week'</th>\n",
       "      <td>INT</td>\n",
       "      <td>required</td>\n",
       "      <td></td>\n",
       "      <td>-</td>\n",
       "    </tr>\n",
       "    <tr>\n",
       "      <th>'native-country'</th>\n",
       "      <td>STRING</td>\n",
       "      <td>required</td>\n",
       "      <td></td>\n",
       "      <td>'native-country'</td>\n",
       "    </tr>\n",
       "  </tbody>\n",
       "</table>\n",
       "</div>"
      ],
      "text/plain": [
       "                     Type  Presence Valency             Domain\n",
       "Feature name                                                  \n",
       "'age'                 INT  required           min: 17; max: 90\n",
       "'workclass'        STRING  required                'workclass'\n",
       "'fnlwgt'              INT  required                          -\n",
       "'education'        STRING  required                'education'\n",
       "'education-num'       INT  required                          -\n",
       "'maritial-status'  STRING  required          'maritial-status'\n",
       "'occupation'       STRING  required               'occupation'\n",
       "'relationshop'     STRING  required             'relationshop'\n",
       "'race'             STRING  required                     'race'\n",
       "'sex'              STRING  required                      'sex'\n",
       "'capital-gain'        INT  required                          -\n",
       "'capital-loss'        INT  required                          -\n",
       "'hours-per-week'      INT  required                          -\n",
       "'native-country'   STRING  required           'native-country'"
      ]
     },
     "metadata": {},
     "output_type": "display_data"
    },
    {
     "data": {
      "text/html": [
       "<div>\n",
       "<style scoped>\n",
       "    .dataframe tbody tr th:only-of-type {\n",
       "        vertical-align: middle;\n",
       "    }\n",
       "\n",
       "    .dataframe tbody tr th {\n",
       "        vertical-align: top;\n",
       "    }\n",
       "\n",
       "    .dataframe thead th {\n",
       "        text-align: right;\n",
       "    }\n",
       "</style>\n",
       "<table border=\"1\" class=\"dataframe\">\n",
       "  <thead>\n",
       "    <tr style=\"text-align: right;\">\n",
       "      <th></th>\n",
       "      <th>Values</th>\n",
       "    </tr>\n",
       "    <tr>\n",
       "      <th>Domain</th>\n",
       "      <th></th>\n",
       "    </tr>\n",
       "  </thead>\n",
       "  <tbody>\n",
       "    <tr>\n",
       "      <th>'workclass'</th>\n",
       "      <td>'?', 'Federal-gov', 'Local-gov', 'Never-worked', 'Private', 'Self-emp-inc', 'Self-emp-not-inc', 'State-gov', 'Without-pay'</td>\n",
       "    </tr>\n",
       "    <tr>\n",
       "      <th>'education'</th>\n",
       "      <td>'10th', '11th', '12th', '1st-4th', '5th-6th', '7th-8th', '9th', 'Assoc-acdm', 'Assoc-voc', 'Bachelors', 'Doctorate', 'HS-grad', 'Masters', 'Preschool', 'Prof-school', 'Some-college'</td>\n",
       "    </tr>\n",
       "    <tr>\n",
       "      <th>'maritial-status'</th>\n",
       "      <td>'Divorced', 'Married-AF-spouse', 'Married-civ-spouse', 'Married-spouse-absent', 'Never-married', 'Separated', 'Widowed'</td>\n",
       "    </tr>\n",
       "    <tr>\n",
       "      <th>'occupation'</th>\n",
       "      <td>'?', 'Adm-clerical', 'Armed-Forces', 'Craft-repair', 'Exec-managerial', 'Farming-fishing', 'Handlers-cleaners', 'Machine-op-inspct', 'Other-service', 'Priv-house-serv', 'Prof-specialty', 'Protective-serv', 'Sales', 'Tech-support', 'Transport-moving'</td>\n",
       "    </tr>\n",
       "    <tr>\n",
       "      <th>'relationshop'</th>\n",
       "      <td>'Husband', 'Not-in-family', 'Other-relative', 'Own-child', 'Unmarried', 'Wife'</td>\n",
       "    </tr>\n",
       "    <tr>\n",
       "      <th>'race'</th>\n",
       "      <td>'Amer-Indian-Eskimo', 'Asian-Pac-Islander', 'Black', 'Other', 'White', 'Asian'</td>\n",
       "    </tr>\n",
       "    <tr>\n",
       "      <th>'sex'</th>\n",
       "      <td>'Female', 'Male'</td>\n",
       "    </tr>\n",
       "    <tr>\n",
       "      <th>'native-country'</th>\n",
       "      <td>'?', 'Cambodia', 'Canada', 'China', 'Columbia', 'Cuba', 'Dominican-Republic', 'Ecuador', 'El-Salvador', 'England', 'France', 'Germany', 'Greece', 'Guatemala', 'Haiti', 'Holand-Netherlands', 'Honduras', 'Hong', 'Hungary', 'India', 'Iran', 'Ireland', 'Italy', 'Jamaica', 'Japan', 'Laos', 'Mexico', 'Nicaragua', 'Outlying-US(Guam-USVI-etc)', 'Peru', 'Philippines', 'Poland', 'Portugal', 'Puerto-Rico', 'Scotland', 'South', 'Taiwan', 'Thailand', 'Trinadad&amp;Tobago', 'United-States', 'Vietnam', 'Yugoslavia'</td>\n",
       "    </tr>\n",
       "  </tbody>\n",
       "</table>\n",
       "</div>"
      ],
      "text/plain": [
       "                                                                                                                                                                                                                                                                                                                                                                                                                                                                                                                                  Values\n",
       "Domain                                                                                                                                                                                                                                                                                                                                                                                                                                                                                                                                  \n",
       "'workclass'                                                                                                                                                                                                                                                                                                                                                                                                   '?', 'Federal-gov', 'Local-gov', 'Never-worked', 'Private', 'Self-emp-inc', 'Self-emp-not-inc', 'State-gov', 'Without-pay'\n",
       "'education'                                                                                                                                                                                                                                                                                                                                        '10th', '11th', '12th', '1st-4th', '5th-6th', '7th-8th', '9th', 'Assoc-acdm', 'Assoc-voc', 'Bachelors', 'Doctorate', 'HS-grad', 'Masters', 'Preschool', 'Prof-school', 'Some-college'\n",
       "'maritial-status'                                                                                                                                                                                                                                                                                                                                                                                                'Divorced', 'Married-AF-spouse', 'Married-civ-spouse', 'Married-spouse-absent', 'Never-married', 'Separated', 'Widowed'\n",
       "'occupation'                                                                                                                                                                                                                                                                   '?', 'Adm-clerical', 'Armed-Forces', 'Craft-repair', 'Exec-managerial', 'Farming-fishing', 'Handlers-cleaners', 'Machine-op-inspct', 'Other-service', 'Priv-house-serv', 'Prof-specialty', 'Protective-serv', 'Sales', 'Tech-support', 'Transport-moving'\n",
       "'relationshop'                                                                                                                                                                                                                                                                                                                                                                                                                                            'Husband', 'Not-in-family', 'Other-relative', 'Own-child', 'Unmarried', 'Wife'\n",
       "'race'                                                                                                                                                                                                                                                                                                                                                                                                                                                    'Amer-Indian-Eskimo', 'Asian-Pac-Islander', 'Black', 'Other', 'White', 'Asian'\n",
       "'sex'                                                                                                                                                                                                                                                                                                                                                                                                                                                                                                                   'Female', 'Male'\n",
       "'native-country'   '?', 'Cambodia', 'Canada', 'China', 'Columbia', 'Cuba', 'Dominican-Republic', 'Ecuador', 'El-Salvador', 'England', 'France', 'Germany', 'Greece', 'Guatemala', 'Haiti', 'Holand-Netherlands', 'Honduras', 'Hong', 'Hungary', 'India', 'Iran', 'Ireland', 'Italy', 'Jamaica', 'Japan', 'Laos', 'Mexico', 'Nicaragua', 'Outlying-US(Guam-USVI-etc)', 'Peru', 'Philippines', 'Poland', 'Portugal', 'Puerto-Rico', 'Scotland', 'South', 'Taiwan', 'Thailand', 'Trinadad&Tobago', 'United-States', 'Vietnam', 'Yugoslavia'"
      ]
     },
     "metadata": {},
     "output_type": "display_data"
    }
   ],
   "source": [
    "# Restrict the range of the `age` feature\n",
    "tfdv.set_domain(schema, 'age', schema_pb2.IntDomain(name='age', min=17, max=90))\n",
    "\n",
    "# Display the modified schema. Notice the `Domain` column of `age`.\n",
    "tfdv.display_schema(schema)"
   ]
  },
  {
   "cell_type": "markdown",
   "metadata": {},
   "source": [
    "With these revisions, running the validation should now show no anomalies."
   ]
  },
  {
   "cell_type": "code",
   "execution_count": 49,
   "metadata": {},
   "outputs": [
    {
     "data": {
      "text/html": [
       "<h4 style=\"color:green;\">No anomalies found.</h4>"
      ],
      "text/plain": [
       "<IPython.core.display.HTML object>"
      ]
     },
     "metadata": {},
     "output_type": "display_data"
    }
   ],
   "source": [
    "# Validate eval stats after updating the schema \n",
    "updated_anomalies = tfdv.validate_statistics(eval_stats, schema)\n",
    "tfdv.display_anomalies(updated_anomalies)"
   ]
  },
  {
   "cell_type": "markdown",
   "metadata": {},
   "source": [
    "## Examining dataset slices\n",
    "\n",
    "TFDV also allows you to analyze specific slices of your dataset. This is particularly useful if you want to inspect if a feature type is well-represented in your dataset. Let's walk through an example where we want to compare the statistics for male and female participants."
   ]
  },
  {
   "cell_type": "markdown",
   "metadata": {},
   "source": [
    "First, you will use the [`get_feature_value_slicer`](https://github.com/tensorflow/data-validation/blob/master/tensorflow_data_validation/utils/slicing_util.py#L48) method from the `slicing_util` to get the features you want to examine. You can specify that by passing a dictionary to the `features` argument. If you want to get the entire domain of a feature, then you can map the feature name with `None` as shown below. This means that you will get slices for both `Male` and `Female` entries. This returns a function that can be used to extract the said feature slice."
   ]
  },
  {
   "cell_type": "code",
   "execution_count": 51,
   "metadata": {},
   "outputs": [],
   "source": [
    "from tensorflow_data_validation.utils import slicing_util\n",
    "\n",
    "slice_fn = slicing_util.get_feature_value_slicer(features={'sex': None})"
   ]
  },
  {
   "cell_type": "markdown",
   "metadata": {},
   "source": [
    "With the slice function ready, you can now generate the statistics. You need to tell TFDV that you need statistics for the features you set and you can do that through the `slice_functions` argument of [`tfdv.StatsOptions`](https://www.tensorflow.org/tfx/data_validation/api_docs/python/tfdv/StatsOptions). Let's prepare that in the cell below. Notice that you also need to pass in the schema."
   ]
  },
  {
   "cell_type": "code",
   "execution_count": 52,
   "metadata": {},
   "outputs": [],
   "source": [
    "# Declare stats options\n",
    "slice_stats_options = tfdv.StatsOptions(schema=schema,\n",
    "                                        slice_functions=[slice_fn],\n",
    "                                        infer_type_from_schema=True)"
   ]
  },
  {
   "cell_type": "markdown",
   "metadata": {},
   "source": [
    "You will then pass these options to the `generate_statistics_from_csv()` method. As of writing, generating sliced statistics only works for CSVs so you will need to convert the Pandas dataframe to a CSV. Passing the `slice_stats_options` to `generate_statistics_from_dataframe()` will not produce the expected results."
   ]
  },
  {
   "cell_type": "code",
   "execution_count": 53,
   "metadata": {},
   "outputs": [
    {
     "data": {
      "application/javascript": [
       "\n",
       "        if (typeof window.interactive_beam_jquery == 'undefined') {\n",
       "          var jqueryScript = document.createElement('script');\n",
       "          jqueryScript.src = 'https://code.jquery.com/jquery-3.4.1.slim.min.js';\n",
       "          jqueryScript.type = 'text/javascript';\n",
       "          jqueryScript.onload = function() {\n",
       "            var datatableScript = document.createElement('script');\n",
       "            datatableScript.src = 'https://cdn.datatables.net/1.10.20/js/jquery.dataTables.min.js';\n",
       "            datatableScript.type = 'text/javascript';\n",
       "            datatableScript.onload = function() {\n",
       "              window.interactive_beam_jquery = jQuery.noConflict(true);\n",
       "              window.interactive_beam_jquery(document).ready(function($){\n",
       "                \n",
       "              });\n",
       "            }\n",
       "            document.head.appendChild(datatableScript);\n",
       "          };\n",
       "          document.head.appendChild(jqueryScript);\n",
       "        } else {\n",
       "          window.interactive_beam_jquery(document).ready(function($){\n",
       "            \n",
       "          });\n",
       "        }"
      ]
     },
     "metadata": {},
     "output_type": "display_data"
    },
    {
     "name": "stderr",
     "output_type": "stream",
     "text": [
      "WARNING:root:Make sure that locally built Python SDK docker image has Python 3.8 interpreter.\n",
      "WARNING:apache_beam.io.tfrecordio:Couldn't find python-snappy so the implementation of _TFRecordUtil._masked_crc32c is not as fast as it could be.\n"
     ]
    },
    {
     "name": "stdout",
     "output_type": "stream",
     "text": [
      "WARNING:tensorflow:From /home/liongkj/.local/lib/python3.8/site-packages/tensorflow_data_validation/utils/statistics_io_impl.py:100: tf_record_iterator (from tensorflow.python.lib.io.tf_record) is deprecated and will be removed in a future version.\n",
      "Instructions for updating:\n",
      "Use eager execution and: \n",
      "`tf.data.TFRecordDataset(path)`\n"
     ]
    },
    {
     "name": "stderr",
     "output_type": "stream",
     "text": [
      "WARNING:tensorflow:From /home/liongkj/.local/lib/python3.8/site-packages/tensorflow_data_validation/utils/statistics_io_impl.py:100: tf_record_iterator (from tensorflow.python.lib.io.tf_record) is deprecated and will be removed in a future version.\n",
      "Instructions for updating:\n",
      "Use eager execution and: \n",
      "`tf.data.TFRecordDataset(path)`\n"
     ]
    }
   ],
   "source": [
    "# Convert dataframe to CSV since `slice_functions` works only with `tfdv.generate_statistics_from_csv`\n",
    "CSV_PATH = 'slice_sample.csv'\n",
    "train_df.to_csv(CSV_PATH)\n",
    "\n",
    "# Calculate statistics for the sliced dataset\n",
    "sliced_stats = tfdv.generate_statistics_from_csv(CSV_PATH, stats_options=slice_stats_options)"
   ]
  },
  {
   "cell_type": "markdown",
   "metadata": {},
   "source": [
    "With that, you now have the statistics for the set slice. These are packed into a `DatasetFeatureStatisticsList` protocol buffer. You can see the dataset names below. The first element in the list (i.e. index=0) is named `All_Examples` which just contains the statistics for the entire dataset. The next two elements (i.e. named `sex_Male` and `sex_Female`) are the datasets that contain the stats for the slices. It is important to note that these datasets are of the type: `DatasetFeatureStatistics`. You will see why this is important after the cell below."
   ]
  },
  {
   "cell_type": "code",
   "execution_count": 54,
   "metadata": {},
   "outputs": [
    {
     "name": "stdout",
     "output_type": "stream",
     "text": [
      "Datasets generated: ['All Examples', 'sex_Male', 'sex_Female']\n",
      "Type of sliced_stats elements: <class 'tensorflow_metadata.proto.v0.statistics_pb2.DatasetFeatureStatistics'>\n"
     ]
    }
   ],
   "source": [
    "print(f'Datasets generated: {[sliced.name for sliced in sliced_stats.datasets]}')\n",
    "\n",
    "print(f'Type of sliced_stats elements: {type(sliced_stats.datasets[0])}')"
   ]
  },
  {
   "cell_type": "markdown",
   "metadata": {},
   "source": [
    "You can then visualize the statistics as before to examine the slices. An important caveat is `visualize_statistics()` accepts a `DatasetFeatureStatisticsList` type instead of `DatasetFeatureStatistics`. Thus, at least for this version of TFDV, you will need to convert it to the correct type."
   ]
  },
  {
   "cell_type": "code",
   "execution_count": 55,
   "metadata": {},
   "outputs": [
    {
     "data": {
      "text/html": [
       "<iframe id='facets-iframe' width=\"100%\" height=\"500px\"></iframe>\n",
       "        <script>\n",
       "        facets_iframe = document.getElementById('facets-iframe');\n",
       "        facets_html = '<script src=\"https://cdnjs.cloudflare.com/ajax/libs/webcomponentsjs/1.3.3/webcomponents-lite.js\"><\\/script><link rel=\"import\" href=\"https://raw.githubusercontent.com/PAIR-code/facets/master/facets-dist/facets-jupyter.html\"><facets-overview proto-input=\"CpZiCghzZXhfTWFsZRCXiAEakQYQAiL/BQq4AgiXiAEYASABLQAAgD8ypAIaGwkAAAAAAADwPxEAAAAAAADwPyFmZmZmZjybQBobCQAAAAAAAPA/EQAAAAAAAPA/IWZmZmZmPJtAGhsJAAAAAAAA8D8RAAAAAAAA8D8hZmZmZmY8m0AaGwkAAAAAAADwPxEAAAAAAADwPyFmZmZmZjybQBobCQAAAAAAAPA/EQAAAAAAAPA/IWZmZmZmPJtAGhsJAAAAAAAA8D8RAAAAAAAA8D8hZmZmZmY8m0AaGwkAAAAAAADwPxEAAAAAAADwPyFmZmZmZjybQBobCQAAAAAAAPA/EQAAAAAAAPA/IWZmZmZmPJtAGhsJAAAAAAAA8D8RAAAAAAAA8D8hZmZmZmY8m0AaGwkAAAAAAADwPxEAAAAAAADwPyFmZmZmZjybQCABQJeIARAJGhISB1ByaXZhdGUZAAAAAIBAx0AaGxIQU2VsZi1lbXAtbm90LWluYxkAAAAAABibQBoUEglMb2NhbC1nb3YZAAAAAADgj0AaDBIBPxkAAAAAAPCIQBoXEgxTZWxmLWVtcC1pbmMZAAAAAACIiEAaFBIJU3RhdGUtZ292GQAAAAAAkIRAGhYSC0ZlZGVyYWwtZ292GQAAAAAAQIBAGhYSC1dpdGhvdXQtcGF5GQAAAAAAABxAGhcSDE5ldmVyLXdvcmtlZBkAAAAAAAAQQCUEkQJBKu0BChIiB1ByaXZhdGUpAAAAAIBAx0AKHwgBEAEiEFNlbGYtZW1wLW5vdC1pbmMpAAAAAAAYm0AKGAgCEAIiCUxvY2FsLWdvdikAAAAAAOCPQAoQCAMQAyIBPykAAAAAAPCIQAobCAQQBCIMU2VsZi1lbXAtaW5jKQAAAAAAiIhAChgIBRAFIglTdGF0ZS1nb3YpAAAAAACQhEAKGggGEAYiC0ZlZGVyYWwtZ292KQAAAAAAQIBAChoIBxAHIgtXaXRob3V0LXBheSkAAAAAAAAcQAobCAgQCCIMTmV2ZXItd29ya2VkKQAAAAAAABBAQgsKCXdvcmtjbGFzcxqhCBACIo8ICrgCCJeIARgBIAEtAACAPzKkAhobCQAAAAAAAPA/EQAAAAAAAPA/IWZmZmZmPJtAGhsJAAAAAAAA8D8RAAAAAAAA8D8hZmZmZmY8m0AaGwkAAAAAAADwPxEAAAAAAADwPyFmZmZmZjybQBobCQAAAAAAAPA/EQAAAAAAAPA/IWZmZmZmPJtAGhsJAAAAAAAA8D8RAAAAAAAA8D8hZmZmZmY8m0AaGwkAAAAAAADwPxEAAAAAAADwPyFmZmZmZjybQBobCQAAAAAAAPA/EQAAAAAAAPA/IWZmZmZmPJtAGhsJAAAAAAAA8D8RAAAAAAAA8D8hZmZmZmY8m0AaGwkAAAAAAADwPxEAAAAAAADwPyFmZmZmZjybQBobCQAAAAAAAPA/EQAAAAAAAPA/IWZmZmZmPJtAIAFAl4gBEBAaEhIHSFMtZ3JhZBkAAAAAACi2QBoXEgxTb21lLWNvbGxlZ2UZAAAAAAAKrEAaFBIJQmFjaGVsb3JzGQAAAAAAlqdAGhISB01hc3RlcnMZAAAAAABIjUAaFBIJQXNzb2Mtdm9jGQAAAAAAIIZAGg8SBDExdGgZAAAAAAAYg0AaDxIEMTB0aBkAAAAAACCAQBoVEgpBc3NvYy1hY2RtGQAAAAAAAIBAGhISBzd0aC04dGgZAAAAAACgeEAaFhILUHJvZi1zY2hvb2wZAAAAAACgd0AaDhIDOXRoGQAAAAAAUHJAGhQSCURvY3RvcmF0ZRkAAAAAALBwQBoPEgQxMnRoGQAAAAAAAGxAGhISBzV0aC02dGgZAAAAAABAaEAaEhIHMXN0LTR0aBkAAAAAAEBWQBoUEglQcmVzY2hvb2wZAAAAAAAAPEAlbtsFQSqDAwoSIgdIUy1ncmFkKQAAAAAAKLZAChsIARABIgxTb21lLWNvbGxlZ2UpAAAAAAAKrEAKGAgCEAIiCUJhY2hlbG9ycykAAAAAAJanQAoWCAMQAyIHTWFzdGVycykAAAAAAEiNQAoYCAQQBCIJQXNzb2Mtdm9jKQAAAAAAIIZAChMIBRAFIgQxMXRoKQAAAAAAGINAChMIBhAGIgQxMHRoKQAAAAAAIIBAChkIBxAHIgpBc3NvYy1hY2RtKQAAAAAAAIBAChYICBAIIgc3dGgtOHRoKQAAAAAAoHhAChoICRAJIgtQcm9mLXNjaG9vbCkAAAAAAKB3QAoSCAoQCiIDOXRoKQAAAAAAUHJAChgICxALIglEb2N0b3JhdGUpAAAAAACwcEAKEwgMEAwiBDEydGgpAAAAAAAAbEAKFggNEA0iBzV0aC02dGgpAAAAAABAaEAKFggOEA4iBzFzdC00dGgpAAAAAABAVkAKGAgPEA8iCVByZXNjaG9vbCkAAAAAAAA8QEILCgllZHVjYXRpb24a5QUQAiLNBQq4AgiXiAEYASABLQAAgD8ypAIaGwkAAAAAAADwPxEAAAAAAADwPyFmZmZmZjybQBobCQAAAAAAAPA/EQAAAAAAAPA/IWZmZmZmPJtAGhsJAAAAAAAA8D8RAAAAAAAA8D8hZmZmZmY8m0AaGwkAAAAAAADwPxEAAAAAAADwPyFmZmZmZjybQBobCQAAAAAAAPA/EQAAAAAAAPA/IWZmZmZmPJtAGhsJAAAAAAAA8D8RAAAAAAAA8D8hZmZmZmY8m0AaGwkAAAAAAADwPxEAAAAAAADwPyFmZmZmZjybQBobCQAAAAAAAPA/EQAAAAAAAPA/IWZmZmZmPJtAGhsJAAAAAAAA8D8RAAAAAAAA8D8hZmZmZmY8m0AaGwkAAAAAAADwPxEAAAAAAADwPyFmZmZmZjybQCABQJeIARAHGh0SEk1hcnJpZWQtY2l2LXNwb3VzZRkAAAAAALPEQBoYEg1OZXZlci1tYXJyaWVkGQAAAAAAmLJAGhMSCERpdm9yY2VkGQAAAAAAbJZAGhQSCVNlcGFyYXRlZBkAAAAAACB0QBogEhVNYXJyaWVkLXNwb3VzZS1hYnNlbnQZAAAAAABgZkAaEhIHV2lkb3dlZBkAAAAAAEBgQBocEhFNYXJyaWVkLUFGLXNwb3VzZRkAAAAAAAAcQCXofnlBKtABCh0iEk1hcnJpZWQtY2l2LXNwb3VzZSkAAAAAALPEQAocCAEQASINTmV2ZXItbWFycmllZCkAAAAAAJiyQAoXCAIQAiIIRGl2b3JjZWQpAAAAAABslkAKGAgDEAMiCVNlcGFyYXRlZCkAAAAAACB0QAokCAQQBCIVTWFycmllZC1zcG91c2UtYWJzZW50KQAAAAAAYGZAChYIBRAFIgdXaWRvd2VkKQAAAAAAQGBACiAIBhAGIhFNYXJyaWVkLUFGLXNwb3VzZSkAAAAAAAAcQEIRCg9tYXJpdGlhbC1zdGF0dXMalAkQAiKBCQq4AgiXiAEYASABLQAAgD8ypAIaGwkAAAAAAADwPxEAAAAAAADwPyFmZmZmZjybQBobCQAAAAAAAPA/EQAAAAAAAPA/IWZmZmZmPJtAGhsJAAAAAAAA8D8RAAAAAAAA8D8hZmZmZmY8m0AaGwkAAAAAAADwPxEAAAAAAADwPyFmZmZmZjybQBobCQAAAAAAAPA/EQAAAAAAAPA/IWZmZmZmPJtAGhsJAAAAAAAA8D8RAAAAAAAA8D8hZmZmZmY8m0AaGwkAAAAAAADwPxEAAAAAAADwPyFmZmZmZjybQBobCQAAAAAAAPA/EQAAAAAAAPA/IWZmZmZmPJtAGhsJAAAAAAAA8D8RAAAAAAAA8D8hZmZmZmY8m0AaGwkAAAAAAADwPxEAAAAAAADwPyFmZmZmZjybQCABQJeIARAPGhcSDENyYWZ0LXJlcGFpchkAAAAAAAqoQBoaEg9FeGVjLW1hbmFnZXJpYWwZAAAAAAAIokAaGRIOUHJvZi1zcGVjaWFsdHkZAAAAAABooEAaEBIFU2FsZXMZAAAAAAAonkAaGxIQVHJhbnNwb3J0LW1vdmluZxkAAAAAAACTQBoYEg1PdGhlci1zZXJ2aWNlGQAAAAAA4JJAGhwSEU1hY2hpbmUtb3AtaW5zcGN0GQAAAAAADJJAGhcSDEFkbS1jbGVyaWNhbBkAAAAAAPiPQBocEhFIYW5kbGVycy1jbGVhbmVycxkAAAAAAOiMQBoMEgE/GQAAAAAAEIlAGhoSD0Zhcm1pbmctZmlzaGluZxkAAAAAADiHQBoaEg9Qcm90ZWN0aXZlLXNlcnYZAAAAAABAfUAaFxIMVGVjaC1zdXBwb3J0GQAAAAAA8HxAGhcSDEFybWVkLUZvcmNlcxkAAAAAAAAgQBoaEg9Qcml2LWhvdXNlLXNlcnYZAAAAAAAAFEAlLS5IQSq6AwoXIgxDcmFmdC1yZXBhaXIpAAAAAAAKqEAKHggBEAEiD0V4ZWMtbWFuYWdlcmlhbCkAAAAAAAiiQAodCAIQAiIOUHJvZi1zcGVjaWFsdHkpAAAAAABooEAKFAgDEAMiBVNhbGVzKQAAAAAAKJ5ACh8IBBAEIhBUcmFuc3BvcnQtbW92aW5nKQAAAAAAAJNAChwIBRAFIg1PdGhlci1zZXJ2aWNlKQAAAAAA4JJACiAIBhAGIhFNYWNoaW5lLW9wLWluc3BjdCkAAAAAAAySQAobCAcQByIMQWRtLWNsZXJpY2FsKQAAAAAA+I9ACiAICBAIIhFIYW5kbGVycy1jbGVhbmVycykAAAAAAOiMQAoQCAkQCSIBPykAAAAAABCJQAoeCAoQCiIPRmFybWluZy1maXNoaW5nKQAAAAAAOIdACh4ICxALIg9Qcm90ZWN0aXZlLXNlcnYpAAAAAABAfUAKGwgMEAwiDFRlY2gtc3VwcG9ydCkAAAAAAPB8QAobCA0QDSIMQXJtZWQtRm9yY2VzKQAAAAAAACBACh4IDhAOIg9Qcml2LWhvdXNlLXNlcnYpAAAAAAAAFEBCDAoKb2NjdXBhdGlvbhr6BBACIuUECrgCCJeIARgBIAEtAACAPzKkAhobCQAAAAAAAPA/EQAAAAAAAPA/IWZmZmZmPJtAGhsJAAAAAAAA8D8RAAAAAAAA8D8hZmZmZmY8m0AaGwkAAAAAAADwPxEAAAAAAADwPyFmZmZmZjybQBobCQAAAAAAAPA/EQAAAAAAAPA/IWZmZmZmPJtAGhsJAAAAAAAA8D8RAAAAAAAA8D8hZmZmZmY8m0AaGwkAAAAAAADwPxEAAAAAAADwPyFmZmZmZjybQBobCQAAAAAAAPA/EQAAAAAAAPA/IWZmZmZmPJtAGhsJAAAAAAAA8D8RAAAAAAAA8D8hZmZmZmY8m0AaGwkAAAAAAADwPxEAAAAAAADwPyFmZmZmZjybQBobCQAAAAAAAPA/EQAAAAAAAPA/IWZmZmZmPJtAIAFAl4gBEAYaEhIHSHVzYmFuZBkAAAAAgIDEQBoYEg1Ob3QtaW4tZmFtaWx5GQAAAAAANqxAGhQSCU93bi1jaGlsZBkAAAAAALihQBoUEglVbm1hcnJpZWQZAAAAAADIg0AaGRIOT3RoZXItcmVsYXRpdmUZAAAAAABQekAaDxIEV2lmZRkAAAAAAADwPyVT6gtBKpoBChIiB0h1c2JhbmQpAAAAAICAxEAKHAgBEAEiDU5vdC1pbi1mYW1pbHkpAAAAAAA2rEAKGAgCEAIiCU93bi1jaGlsZCkAAAAAALihQAoYCAMQAyIJVW5tYXJyaWVkKQAAAAAAyINACh0IBBAEIg5PdGhlci1yZWxhdGl2ZSkAAAAAAFB6QAoTCAUQBSIEV2lmZSkAAAAAAADwP0IOCgxyZWxhdGlvbnNob3AaygQQAiK9BAq4AgiXiAEYASABLQAAgD8ypAIaGwkAAAAAAADwPxEAAAAAAADwPyFmZmZmZjybQBobCQAAAAAAAPA/EQAAAAAAAPA/IWZmZmZmPJtAGhsJAAAAAAAA8D8RAAAAAAAA8D8hZmZmZmY8m0AaGwkAAAAAAADwPxEAAAAAAADwPyFmZmZmZjybQBobCQAAAAAAAPA/EQAAAAAAAPA/IWZmZmZmPJtAGhsJAAAAAAAA8D8RAAAAAAAA8D8hZmZmZmY8m0AaGwkAAAAAAADwPxEAAAAAAADwPyFmZmZmZjybQBobCQAAAAAAAPA/EQAAAAAAAPA/IWZmZmZmPJtAGhsJAAAAAAAA8D8RAAAAAAAA8D8hZmZmZmY8m0AaGwkAAAAAAADwPxEAAAAAAADwPyFmZmZmZjybQCABQJeIARAFGhASBVdoaXRlGQAAAACA/s1AGhASBUJsYWNrGQAAAAAAkJNAGh0SEkFzaWFuLVBhYy1Jc2xhbmRlchkAAAAAAPCAQBodEhJBbWVyLUluZGlhbi1Fc2tpbW8ZAAAAAADgYkAaEBIFT3RoZXIZAAAAAAAgYEAl74mwQCqEAQoQIgVXaGl0ZSkAAAAAgP7NQAoUCAEQASIFQmxhY2spAAAAAACQk0AKIQgCEAIiEkFzaWFuLVBhYy1Jc2xhbmRlcikAAAAAAPCAQAohCAMQAyISQW1lci1JbmRpYW4tRXNraW1vKQAAAAAA4GJAChQIBBAEIgVPdGhlcikAAAAAACBgQEIGCgRyYWNlGvICEAIi5gIKuAIIl4gBGAEgAS0AAIA/MqQCGhsJAAAAAAAA8D8RAAAAAAAA8D8hZmZmZmY8m0AaGwkAAAAAAADwPxEAAAAAAADwPyFmZmZmZjybQBobCQAAAAAAAPA/EQAAAAAAAPA/IWZmZmZmPJtAGhsJAAAAAAAA8D8RAAAAAAAA8D8hZmZmZmY8m0AaGwkAAAAAAADwPxEAAAAAAADwPyFmZmZmZjybQBobCQAAAAAAAPA/EQAAAAAAAPA/IWZmZmZmPJtAGhsJAAAAAAAA8D8RAAAAAAAA8D8hZmZmZmY8m0AaGwkAAAAAAADwPxEAAAAAAADwPyFmZmZmZjybQBobCQAAAAAAAPA/EQAAAAAAAPA/IWZmZmZmPJtAGhsJAAAAAAAA8D8RAAAAAAAA8D8hZmZmZmY8m0AgAUCXiAEQARoPEgRNYWxlGQAAAADABdFAJQAAgEAqEQoPIgRNYWxlKQAAAADABdFAQgUKA3NleBrmDRACIs8NCrgCCJeIARgBIAEtAACAPzKkAhobCQAAAAAAAPA/EQAAAAAAAPA/IWZmZmZmPJtAGhsJAAAAAAAA8D8RAAAAAAAA8D8hZmZmZmY8m0AaGwkAAAAAAADwPxEAAAAAAADwPyFmZmZmZjybQBobCQAAAAAAAPA/EQAAAAAAAPA/IWZmZmZmPJtAGhsJAAAAAAAA8D8RAAAAAAAA8D8hZmZmZmY8m0AaGwkAAAAAAADwPxEAAAAAAADwPyFmZmZmZjybQBobCQAAAAAAAPA/EQAAAAAAAPA/IWZmZmZmPJtAGhsJAAAAAAAA8D8RAAAAAAAA8D8hZmZmZmY8m0AaGwkAAAAAAADwPxEAAAAAAADwPyFmZmZmZjybQBobCQAAAAAAAPA/EQAAAAAAAPA/IWZmZmZmPJtAIAFAl4gBECkaGBINVW5pdGVkLVN0YXRlcxkAAAAAAH/OQBoREgZNZXhpY28ZAAAAAACAeEAaDBIBPxkAAAAAACB1QBoWEgtQaGlsaXBwaW5lcxkAAAAAAMBYQBoREgZDYW5hZGEZAAAAAABAUUAaEBIFSW5kaWEZAAAAAACAT0AaEhIHR2VybWFueRkAAAAAAABNQBoWEgtQdWVydG8tUmljbxkAAAAAAIBKQBoWEgtFbC1TYWx2YWRvchkAAAAAAABKQBoSEgdFbmdsYW5kGQAAAAAAgElAGhASBUNoaW5hGQAAAAAAAEdAGhASBVNvdXRoGQAAAAAAgERAGg8SBEN1YmEZAAAAAAAAREAaEBIFSXRhbHkZAAAAAAAAQ0AaEBIFSmFwYW4ZAAAAAACAQUAaFBIJR3VhdGVtYWxhGQAAAAAAgEFAGhESBlBvbGFuZBkAAAAAAABBQBoSEgdWaWV0bmFtGQAAAAAAgEBAGh0SEkRvbWluaWNhbi1SZXB1YmxpYxkAAAAAAAA/QBoREgZUYWl3YW4ZAAAAAAAAPkAlb0hEQSryBwoYIg1Vbml0ZWQtU3RhdGVzKQAAAAAAf85AChUIARABIgZNZXhpY28pAAAAAACAeEAKEAgCEAIiAT8pAAAAAAAgdUAKGggDEAMiC1BoaWxpcHBpbmVzKQAAAAAAwFhAChUIBBAEIgZDYW5hZGEpAAAAAABAUUAKFAgFEAUiBUluZGlhKQAAAAAAgE9AChYIBhAGIgdHZXJtYW55KQAAAAAAAE1AChoIBxAHIgtQdWVydG8tUmljbykAAAAAAIBKQAoaCAgQCCILRWwtU2FsdmFkb3IpAAAAAAAASkAKFggJEAkiB0VuZ2xhbmQpAAAAAACASUAKFAgKEAoiBUNoaW5hKQAAAAAAAEdAChQICxALIgVTb3V0aCkAAAAAAIBEQAoTCAwQDCIEQ3ViYSkAAAAAAABEQAoUCA0QDSIFSXRhbHkpAAAAAAAAQ0AKFAgOEA4iBUphcGFuKQAAAAAAgEFAChgIDxAPIglHdWF0ZW1hbGEpAAAAAACAQUAKFQgQEBAiBlBvbGFuZCkAAAAAAABBQAoWCBEQESIHVmlldG5hbSkAAAAAAIBAQAohCBIQEiISRG9taW5pY2FuLVJlcHVibGljKQAAAAAAAD9AChUIExATIgZUYWl3YW4pAAAAAAAAPkAKEwgUEBQiBElyYW4pAAAAAAAAPkAKFwgVEBUiCENvbHVtYmlhKQAAAAAAADxAChYIFhAWIgdKYW1haWNhKQAAAAAAADpAChQIFxAXIgVIYWl0aSkAAAAAAAA2QAoVCBgQGCIGR3JlZWNlKQAAAAAAADRAChcIGRAZIghQb3J0dWdhbCkAAAAAAAAyQAoYCBoQGiIJTmljYXJhZ3VhKQAAAAAAADFAChUIGxAbIgZGcmFuY2UpAAAAAAAALEAKFggcEBwiB0lyZWxhbmQpAAAAAAAAKkAKFggdEB0iB0VjdWFkb3IpAAAAAAAAKkAKFwgeEB4iCENhbWJvZGlhKQAAAAAAACpAChMIHxAfIgRQZXJ1KQAAAAAAAChAChkIIBAgIgpZdWdvc2xhdmlhKQAAAAAAACBAChMIIRAhIgRIb25nKQAAAAAAACBAChcIIhAiIghUaGFpbGFuZCkAAAAAAAAcQAoeCCMQIyIPVHJpbmFkYWQmVG9iYWdvKQAAAAAAABhAChMIJBAkIgRMYW9zKQAAAAAAABhAChcIJRAlIghTY290bGFuZCkAAAAAAAAUQAopCCYQJiIaT3V0bHlpbmctVVMoR3VhbS1VU1ZJLWV0YykpAAAAAAAAFEAKFggnECciB0h1bmdhcnkpAAAAAAAAFEAKFwgoECgiCEhvbmR1cmFzKQAAAAAAAAhAQhAKDm5hdGl2ZS1jb3VudHJ5Gr4HGrQHCrgCCJeIARgBIAEtAACAPzKkAhobCQAAAAAAAPA/EQAAAAAAAPA/IWZmZmZmPJtAGhsJAAAAAAAA8D8RAAAAAAAA8D8hZmZmZmY8m0AaGwkAAAAAAADwPxEAAAAAAADwPyFmZmZmZjybQBobCQAAAAAAAPA/EQAAAAAAAPA/IWZmZmZmPJtAGhsJAAAAAAAA8D8RAAAAAAAA8D8hZmZmZmY8m0AaGwkAAAAAAADwPxEAAAAAAADwPyFmZmZmZjybQBobCQAAAAAAAPA/EQAAAAAAAPA/IWZmZmZmPJtAGhsJAAAAAAAA8D8RAAAAAAAA8D8hZmZmZmY8m0AaGwkAAAAAAADwPxEAAAAAAADwPyFmZmZmZjybQBobCQAAAAAAAPA/EQAAAAAAAPA/IWZmZmZmPJtAIAFAl4gBEY20FnoRtkNAGZuKDjWWzipAKQAAAAAAADFAMQAAAAAAAENAOQAAAAAAgFZAQqICGhsJAAAAAAAAMUARzczMzMxMOEAhiIVa09xgo0AaGwnNzMzMzEw4QBGamZmZmZk/QCGzDHGsKwKoQBobCZqZmZmZmT9AETMzMzMzc0NAIb3jFB1pu6pAGhsJMzMzMzNzQ0ARmpmZmZkZR0AhveMUHWm7qkAaGwmamZmZmRlHQBEAAAAAAMBKQCG0N/jChL6hQBobCQAAAAAAwEpAEWZmZmZmZk5AIQmKH2MugZdAGhsJZmZmZmZmTkARZmZmZmYGUUAh9+RhoVZPikAaGwlmZmZmZgZRQBGamZmZmdlSQCHSGVHaG6twQBobCZqZmZmZ2VJAEc3MzMzMrFRAIY86AU2EG1xAGhsJzczMzMysVEARAAAAAACAVkAhtdEA3gK9QkBCpAIaGwkAAAAAAAAxQBEAAAAAAAA3QCFnZmZmZjybQBobCQAAAAAAADdAEQAAAAAAADtAIWdmZmZmPJtAGhsJAAAAAAAAO0ARAAAAAAAAP0AhZ2ZmZmY8m0AaGwkAAAAAAAA/QBEAAAAAAABBQCFnZmZmZjybQBobCQAAAAAAAEFAEQAAAAAAAENAIWdmZmZmPJtAGhsJAAAAAAAAQ0ARAAAAAAAARUAhZ2ZmZmY8m0AaGwkAAAAAAABFQBEAAAAAAABHQCFnZmZmZjybQBobCQAAAAAAAEdAEQAAAAAAgElAIWdmZmZmPJtAGhsJAAAAAACASUARAAAAAAAATUAhZ2ZmZmY8m0AaGwkAAAAAAABNQBEAAAAAAIBWQCFnZmZmZjybQCABQgUKA2FnZRrBBxq0Bwq4AgiXiAEYASABLQAAgD8ypAIaGwkAAAAAAADwPxEAAAAAAADwPyFmZmZmZjybQBobCQAAAAAAAPA/EQAAAAAAAPA/IWZmZmZmPJtAGhsJAAAAAAAA8D8RAAAAAAAA8D8hZmZmZmY8m0AaGwkAAAAAAADwPxEAAAAAAADwPyFmZmZmZjybQBobCQAAAAAAAPA/EQAAAAAAAPA/IWZmZmZmPJtAGhsJAAAAAAAA8D8RAAAAAAAA8D8hZmZmZmY8m0AaGwkAAAAAAADwPxEAAAAAAADwPyFmZmZmZjybQBobCQAAAAAAAPA/EQAAAAAAAPA/IWZmZmZmPJtAGhsJAAAAAAAA8D8RAAAAAAAA8D8hZmZmZmY8m0AaGwkAAAAAAADwPxEAAAAAAADwPyFmZmZmZjybQCABQJeIARHP8SnoWGsHQRmMkuR/+fz5QCkAAAAAAA/NQDEAAAAAeAEGQTkAAAAASzU2QUKiAhobCQAAAAAAD81AEZqZmZmtZgNBIcf1vihM4rpAGhsJmpmZma1mA0ERmpmZmTV+EkEh1aUm6R/Hv0AaGwmamZmZNX4SQRFnZmZmFEkbQSHpK1svHLyfQBobCWdmZmYUSRtBEZqZmZn5CSJBIY0Sni6f63JAGhsJmpmZmfkJIkERAAAAAGlvJkEhUgAHXq49TEAaGwkAAAAAaW8mQRFnZmZm2NQqQSH6N8jzIfghQBobCWdmZmbY1CpBEc7MzMxHOi9BIeJLjEcDtwxAGhsJzszMzEc6L0ERmpmZmdvPMUEh2kuMRwO3DEAaGwmamZmZ288xQRHNzMxMkwI0QSHaS4xHA7cMQBobCc3MzEyTAjRBEQAAAABLNTZBIdpLjEcDtwxAQqQCGhsJAAAAAAAPzUARAAAAAIAz8EAhZ2ZmZmY8m0AaGwkAAAAAgDPwQBEAAAAAsEb6QCFnZmZmZjybQBobCQAAAACwRvpAEQAAAABgMQBBIWdmZmZmPJtAGhsJAAAAAGAxAEERAAAAAFiLA0EhZ2ZmZmY8m0AaGwkAAAAAWIsDQREAAAAAeAEGQSFnZmZmZjybQBobCQAAAAB4AQZBEQAAAACgMQhBIWdmZmZmPJtAGhsJAAAAAKAxCEERAAAAABhBC0EhZ2ZmZmY8m0AaGwkAAAAAGEELQREAAAAAxC8QQSFnZmZmZjybQBobCQAAAADELxBBEQAAAAAMSRRBIWdmZmZmPJtAGhsJAAAAAAxJFEERAAAAAEs1NkEhZ2ZmZmY8m0AgAUIICgZmbmx3Z3QayAcatAcKuAIIl4gBGAEgAS0AAIA/MqQCGhsJAAAAAAAA8D8RAAAAAAAA8D8hZmZmZmY8m0AaGwkAAAAAAADwPxEAAAAAAADwPyFmZmZmZjybQBobCQAAAAAAAPA/EQAAAAAAAPA/IWZmZmZmPJtAGhsJAAAAAAAA8D8RAAAAAAAA8D8hZmZmZmY8m0AaGwkAAAAAAADwPxEAAAAAAADwPyFmZmZmZjybQBobCQAAAAAAAPA/EQAAAAAAAPA/IWZmZmZmPJtAGhsJAAAAAAAA8D8RAAAAAAAA8D8hZmZmZmY8m0AaGwkAAAAAAADwPxEAAAAAAADwPyFmZmZmZjybQBobCQAAAAAAAPA/EQAAAAAAAPA/IWZmZmZmPJtAGhsJAAAAAAAA8D8RAAAAAAAA8D8hZmZmZmY8m0AgAUCXiAER1G8Ov6k2JEAZXpn4QiVCBUApAAAAAAAA8D8xAAAAAAAAJEA5AAAAAAAAMEBCogIaGwkAAAAAAADwPxEAAAAAAAAEQCGf76fGS1NcQBobCQAAAAAAAARAEQAAAAAAABBAIfhT46WbDmlAGhsJAAAAAAAAEEARAAAAAAAAFkAhBVYOLTKEhUAaGwkAAAAAAAAWQBEAAAAAAAAcQCHwp8ZLtxGAQBobCQAAAAAAABxAEQAAAAAAACFAIeJ6FK7H34lAGhsJAAAAAAAAIUARAAAAAAAAJEAhEVg5tDg7tkAaGwkAAAAAAAAkQBEAAAAAAAAnQCFpke18T7ewQBobCQAAAAAAACdAEQAAAAAAACpAIYxs5/spnYBAGhsJAAAAAAAAKkARAAAAAAAALUAhx0s3iWG1rkAaGwkAAAAAAAAtQBEAAAAAAAAwQCHNzMzMTG2EQEKkAhobCQAAAAAAAPA/EQAAAAAAABxAIWdmZmZmPJtAGhsJAAAAAAAAHEARAAAAAAAAIkAhZ2ZmZmY8m0AaGwkAAAAAAAAiQBEAAAAAAAAiQCFnZmZmZjybQBobCQAAAAAAACJAEQAAAAAAACJAIWdmZmZmPJtAGhsJAAAAAAAAIkARAAAAAAAAJEAhZ2ZmZmY8m0AaGwkAAAAAAAAkQBEAAAAAAAAkQCFnZmZmZjybQBobCQAAAAAAACRAEQAAAAAAACZAIWdmZmZmPJtAGhsJAAAAAAAAJkARAAAAAAAAKkAhZ2ZmZmY8m0AaGwkAAAAAAAAqQBEAAAAAAAAqQCFnZmZmZjybQBobCQAAAAAAACpAEQAAAAAAADBAIWdmZmZmPJtAIAFCDwoNZWR1Y2F0aW9uLW51bRqDBhrwBQq4AgiXiAEYASABLQAAgD8ypAIaGwkAAAAAAADwPxEAAAAAAADwPyFmZmZmZjybQBobCQAAAAAAAPA/EQAAAAAAAPA/IWZmZmZmPJtAGhsJAAAAAAAA8D8RAAAAAAAA8D8hZmZmZmY8m0AaGwkAAAAAAADwPxEAAAAAAADwPyFmZmZmZjybQBobCQAAAAAAAPA/EQAAAAAAAPA/IWZmZmZmPJtAGhsJAAAAAAAA8D8RAAAAAAAA8D8hZmZmZmY8m0AaGwkAAAAAAADwPxEAAAAAAADwPyFmZmZmZjybQBobCQAAAAAAAPA/EQAAAAAAAPA/IWZmZmZmPJtAGhsJAAAAAAAA8D8RAAAAAAAA8D8hZmZmZmY8m0AaGwkAAAAAAADwPxEAAAAAAADwPyFmZmZmZjybQCABQJeIARFb3Dyw4NeUQBmVAeWIUFnAQCCSezkAAAAA8Gn4QEKZAhoSETMzMzPzh8NAIfG8DGlghdBAGhsJMzMzM/OHw0ARMzMzM/OH00Ahsr3UK/5GdkAaGwkzMzMz84fTQBHMzMzM7EvdQCFo6XLXMshBQBobCczMzMzsS91AETMzMzPzh+NAIdP3vptaUgNAGhsJMzMzM/OH40ARAAAAAPBp6EAh0/e+m1pSA0AaGwkAAAAA8GnoQBHMzMzM7EvtQCHP976bWlIDQBobCczMzMzsS+1AEc3MzMz0FvFAIdf3vptaUgNAGhsJzczMzPQW8UARMzMzM/OH80Ahz/e+m1pSA0AaGwkzMzMz84fzQBGZmZmZ8fj1QCHP976bWlIDQBobCZmZmZnx+PVAEQAAAADwafhAIe/UAtsTwFpAQnkaCSFnZmZmZjybQBoJIWdmZmZmPJtAGgkhZ2ZmZmY8m0AaCSFnZmZmZjybQBoJIWdmZmZmPJtAGgkhZ2ZmZmY8m0AaCSFnZmZmZjybQBoJIWdmZmZmPJtAGgkhZ2ZmZmY8m0AaEhEAAAAA8Gn4QCFnZmZmZjybQCABQg4KDGNhcGl0YWwtZ2FpbhqEBhrxBQq4AgiXiAEYASABLQAAgD8ypAIaGwkAAAAAAADwPxEAAAAAAADwPyFmZmZmZjybQBobCQAAAAAAAPA/EQAAAAAAAPA/IWZmZmZmPJtAGhsJAAAAAAAA8D8RAAAAAAAA8D8hZmZmZmY8m0AaGwkAAAAAAADwPxEAAAAAAADwPyFmZmZmZjybQBobCQAAAAAAAPA/EQAAAAAAAPA/IWZmZmZmPJtAGhsJAAAAAAAA8D8RAAAAAAAA8D8hZmZmZmY8m0AaGwkAAAAAAADwPxEAAAAAAADwPyFmZmZmZjybQBobCQAAAAAAAPA/EQAAAAAAAPA/IWZmZmZmPJtAGhsJAAAAAAAA8D8RAAAAAAAA8D8hZmZmZmY8m0AaGwkAAAAAAADwPxEAAAAAAADwPyFmZmZmZjybQCABQJeIARF81OTVRPdYQBnY8KpIAdd6QCCEgQE5AAAAAAB0rUBCmQIaEhEAAAAAAJB3QCEI7FReGCDQQBobCQAAAAAAkHdAEQAAAAAAkIdAIWmcGrMg5RRAGhsJAAAAAACQh0ARAAAAAACskUAhaZwasyDlFEAaGwkAAAAAAKyRQBEAAAAAAJCXQCGguWhkVJBNQBobCQAAAAAAkJdAEQAAAAAAdJ1AIe6l2hhu6nBAGhsJAAAAAAB0nUARAAAAAACsoUAhKoQYSqyqfUAaGwkAAAAAAKyhQBEAAAAAAJ6kQCGgr3mxhtxVQBobCQAAAAAAnqRAEQAAAAAAkKdAIQmpH3G7tBVAGhsJAAAAAACQp0ARAAAAAACCqkAhCakfcbu0FUAaGwkAAAAAAIKqQBEAAAAAAHStQCEJqR9xu7QVQEJ5GgkhZ2ZmZmY8m0AaCSFnZmZmZjybQBoJIWdmZmZmPJtAGgkhZ2ZmZmY8m0AaCSFnZmZmZjybQBoJIWdmZmZmPJtAGgkhZ2ZmZmY8m0AaCSFnZmZmZjybQBoJIWdmZmZmPJtAGhIRAAAAAAB0rUAhZ2ZmZmY8m0AgAUIOCgxjYXBpdGFsLWxvc3MayQcatAcKuAIIl4gBGAEgAS0AAIA/MqQCGhsJAAAAAAAA8D8RAAAAAAAA8D8hZmZmZmY8m0AaGwkAAAAAAADwPxEAAAAAAADwPyFmZmZmZjybQBobCQAAAAAAAPA/EQAAAAAAAPA/IWZmZmZmPJtAGhsJAAAAAAAA8D8RAAAAAAAA8D8hZmZmZmY8m0AaGwkAAAAAAADwPxEAAAAAAADwPyFmZmZmZjybQBobCQAAAAAAAPA/EQAAAAAAAPA/IWZmZmZmPJtAGhsJAAAAAAAA8D8RAAAAAAAA8D8hZmZmZmY8m0AaGwkAAAAAAADwPxEAAAAAAADwPyFmZmZmZjybQBobCQAAAAAAAPA/EQAAAAAAAPA/IWZmZmZmPJtAGhsJAAAAAAAA8D8RAAAAAAAA8D8hZmZmZmY8m0AgAUCXiAER5f+QafQyRUAZWUVGBRshKEApAAAAAAAA8D8xAAAAAAAAREA5AAAAAADAWEBCogIaGwkAAAAAAADwPxGamZmZmZklQCGhZ7Pqc01yQBobCZqZmZmZmSVAEZqZmZmZmTRAIanx0k3iyIhAGhsJmpmZmZmZNEARZ2ZmZmZmPkAh9wZfmMzQjEAaGwlnZmZmZmY+QBGamZmZmRlEQCHGSzeJEfHBQBobCZqZmZmZGURAEQAAAAAAAElAIXzysFBrLZ5AGhsJAAAAAAAASUARZ2ZmZmbmTUAh4ZwRpV3eo0AaGwlnZmZmZuZNQBFnZmZmZmZRQCGWQ4tsZ1aTQBobCWdmZmZmZlFAEZqZmZmZ2VNAIdrw9EpZZHNAGhsJmpmZmZnZU0ARzczMzMxMVkAhMlUwKqkfYEAaGwnNzMzMzExWQBEAAAAAAMBYQCE6TtGRXFpVQEKkAhobCQAAAAAAAPA/EQAAAAAAAD5AIWdmZmZmPJtAGhsJAAAAAAAAPkARAAAAAAAAREAhZ2ZmZmY8m0AaGwkAAAAAAABEQBEAAAAAAABEQCFnZmZmZjybQBobCQAAAAAAAERAEQAAAAAAAERAIWdmZmZmPJtAGhsJAAAAAAAAREARAAAAAAAAREAhZ2ZmZmY8m0AaGwkAAAAAAABEQBEAAAAAAABEQCFnZmZmZjybQBobCQAAAAAAAERAEQAAAAAAgEZAIWdmZmZmPJtAGhsJAAAAAACARkARAAAAAAAASUAhZ2ZmZmY8m0AaGwkAAAAAAABJQBEAAAAAAABOQCFnZmZmZjybQBobCQAAAAAAAE5AEQAAAAAAwFhAIWdmZmZmPJtAIAFCEAoOaG91cnMtcGVyLXdlZWsK72EKCnNleF9GZW1hbGUQqUMajwYQAiL9BQq2AgipQxgBIAEtAACAPzKkAhobCQAAAAAAAPA/EQAAAAAAAPA/IZqZmZmZ7YpAGhsJAAAAAAAA8D8RAAAAAAAA8D8hmpmZmZntikAaGwkAAAAAAADwPxEAAAAAAADwPyGamZmZme2KQBobCQAAAAAAAPA/EQAAAAAAAPA/IZqZmZmZ7YpAGhsJAAAAAAAA8D8RAAAAAAAA8D8hmpmZmZntikAaGwkAAAAAAADwPxEAAAAAAADwPyGamZmZme2KQBobCQAAAAAAAPA/EQAAAAAAAPA/IZqZmZmZ7YpAGhsJAAAAAAAA8D8RAAAAAAAA8D8hmpmZmZntikAaGwkAAAAAAADwPxEAAAAAAADwPyGamZmZme2KQBobCQAAAAAAAPA/EQAAAAAAAPA/IZqZmZmZ7YpAIAFAqUMQCRoSEgdQcml2YXRlGQAAAAAARLhAGhQSCUxvY2FsLWdvdhkAAAAAAEiFQBoMEgE/GQAAAAAAsIRAGhQSCVN0YXRlLWdvdhkAAAAAAJB3QBobEhBTZWxmLWVtcC1ub3QtaW5jGQAAAAAAAHRAGhYSC0ZlZGVyYWwtZ292GQAAAAAAIG9AGhcSDFNlbGYtZW1wLWluYxkAAAAAAABcQBoWEgtXaXRob3V0LXBheRkAAAAAAAAIQBoXEgxOZXZlci13b3JrZWQZAAAAAAAA8D8l6qTpQCrtAQoSIgdQcml2YXRlKQAAAAAARLhAChgIARABIglMb2NhbC1nb3YpAAAAAABIhUAKEAgCEAIiAT8pAAAAAACwhEAKGAgDEAMiCVN0YXRlLWdvdikAAAAAAJB3QAofCAQQBCIQU2VsZi1lbXAtbm90LWluYykAAAAAAAB0QAoaCAUQBSILRmVkZXJhbC1nb3YpAAAAAAAgb0AKGwgGEAYiDFNlbGYtZW1wLWluYykAAAAAAABcQAoaCAcQByILV2l0aG91dC1wYXkpAAAAAAAACEAKGwgIEAgiDE5ldmVyLXdvcmtlZCkAAAAAAADwP0ILCgl3b3JrY2xhc3ManwgQAiKNCAq2AgipQxgBIAEtAACAPzKkAhobCQAAAAAAAPA/EQAAAAAAAPA/IZqZmZmZ7YpAGhsJAAAAAAAA8D8RAAAAAAAA8D8hmpmZmZntikAaGwkAAAAAAADwPxEAAAAAAADwPyGamZmZme2KQBobCQAAAAAAAPA/EQAAAAAAAPA/IZqZmZmZ7YpAGhsJAAAAAAAA8D8RAAAAAAAA8D8hmpmZmZntikAaGwkAAAAAAADwPxEAAAAAAADwPyGamZmZme2KQBobCQAAAAAAAPA/EQAAAAAAAPA/IZqZmZmZ7YpAGhsJAAAAAAAA8D8RAAAAAAAA8D8hmpmZmZntikAaGwkAAAAAAADwPxEAAAAAAADwPyGamZmZme2KQBobCQAAAAAAAPA/EQAAAAAAAPA/IZqZmZmZ7YpAIAFAqUMQEBoSEgdIUy1ncmFkGQAAAAAAmKVAGhcSDFNvbWUtY29sbGVnZRkAAAAAAHyhQBoUEglCYWNoZWxvcnMZAAAAAAAglEAaEhIHTWFzdGVycxkAAAAAAHB6QBoUEglBc3NvYy12b2MZAAAAAACQeEAaDxIEMTF0aBkAAAAAAOB0QBoVEgpBc3NvYy1hY2RtGQAAAAAA0HRAGg8SBDEwdGgZAAAAAAAAbkAaEhIHN3RoLTh0aBkAAAAAAMBeQBoOEgM5dGgZAAAAAABAXkAaDxIEMTJ0aBkAAAAAAABdQBoWEgtQcm9mLXNjaG9vbBkAAAAAAMBRQBoUEglEb2N0b3JhdGUZAAAAAACAUEAaEhIHNXRoLTZ0aBkAAAAAAIBOQBoSEgcxc3QtNHRoGQAAAAAAgEBAGhQSCVByZXNjaG9vbBkAAAAAAAAqQCUW9AhBKoMDChIiB0hTLWdyYWQpAAAAAACYpUAKGwgBEAEiDFNvbWUtY29sbGVnZSkAAAAAAHyhQAoYCAIQAiIJQmFjaGVsb3JzKQAAAAAAIJRAChYIAxADIgdNYXN0ZXJzKQAAAAAAcHpAChgIBBAEIglBc3NvYy12b2MpAAAAAACQeEAKEwgFEAUiBDExdGgpAAAAAADgdEAKGQgGEAYiCkFzc29jLWFjZG0pAAAAAADQdEAKEwgHEAciBDEwdGgpAAAAAAAAbkAKFggIEAgiBzd0aC04dGgpAAAAAADAXkAKEggJEAkiAzl0aCkAAAAAAEBeQAoTCAoQCiIEMTJ0aCkAAAAAAABdQAoaCAsQCyILUHJvZi1zY2hvb2wpAAAAAADAUUAKGAgMEAwiCURvY3RvcmF0ZSkAAAAAAIBQQAoWCA0QDSIHNXRoLTZ0aCkAAAAAAIBOQAoWCA4QDiIHMXN0LTR0aCkAAAAAAIBAQAoYCA8QDyIJUHJlc2Nob29sKQAAAAAAACpAQgsKCWVkdWNhdGlvbhrjBRACIssFCrYCCKlDGAEgAS0AAIA/MqQCGhsJAAAAAAAA8D8RAAAAAAAA8D8hmpmZmZntikAaGwkAAAAAAADwPxEAAAAAAADwPyGamZmZme2KQBobCQAAAAAAAPA/EQAAAAAAAPA/IZqZmZmZ7YpAGhsJAAAAAAAA8D8RAAAAAAAA8D8hmpmZmZntikAaGwkAAAAAAADwPxEAAAAAAADwPyGamZmZme2KQBobCQAAAAAAAPA/EQAAAAAAAPA/IZqZmZmZ7YpAGhsJAAAAAAAA8D8RAAAAAAAA8D8hmpmZmZntikAaGwkAAAAAAADwPxEAAAAAAADwPyGamZmZme2KQBobCQAAAAAAAPA/EQAAAAAAAPA/IZqZmZmZ7YpAGhsJAAAAAAAA8D8RAAAAAAAA8D8hmpmZmZntikAgAUCpQxAHGhgSDU5ldmVyLW1hcnJpZWQZAAAAAACUrUAaExIIRGl2b3JjZWQZAAAAAAC8oEAaHRISTWFycmllZC1jaXYtc3BvdXNlGQAAAAAA0JRAGhISB1dpZG93ZWQZAAAAAAAYhUAaFBIJU2VwYXJhdGVkGQAAAAAAgH9AGiASFU1hcnJpZWQtc3BvdXNlLWFic2VudBkAAAAAAOBkQBocEhFNYXJyaWVkLUFGLXNwb3VzZRkAAAAAAAAmQCVvxz9BKtABChgiDU5ldmVyLW1hcnJpZWQpAAAAAACUrUAKFwgBEAEiCERpdm9yY2VkKQAAAAAAvKBACiEIAhACIhJNYXJyaWVkLWNpdi1zcG91c2UpAAAAAADQlEAKFggDEAMiB1dpZG93ZWQpAAAAAAAYhUAKGAgEEAQiCVNlcGFyYXRlZCkAAAAAAIB/QAokCAUQBSIVTWFycmllZC1zcG91c2UtYWJzZW50KQAAAAAA4GRACiAIBhAGIhFNYXJyaWVkLUFGLXNwb3VzZSkAAAAAAAAmQEIRCg9tYXJpdGlhbC1zdGF0dXMa3AgQAiLJCAq2AgipQxgBIAEtAACAPzKkAhobCQAAAAAAAPA/EQAAAAAAAPA/IZqZmZmZ7YpAGhsJAAAAAAAA8D8RAAAAAAAA8D8hmpmZmZntikAaGwkAAAAAAADwPxEAAAAAAADwPyGamZmZme2KQBobCQAAAAAAAPA/EQAAAAAAAPA/IZqZmZmZ7YpAGhsJAAAAAAAA8D8RAAAAAAAA8D8hmpmZmZntikAaGwkAAAAAAADwPxEAAAAAAADwPyGamZmZme2KQBobCQAAAAAAAPA/EQAAAAAAAPA/IZqZmZmZ7YpAGhsJAAAAAAAA8D8RAAAAAAAA8D8hmpmZmZntikAaGwkAAAAAAADwPxEAAAAAAADwPyGamZmZme2KQBobCQAAAAAAAPA/EQAAAAAAAPA/IZqZmZmZ7YpAIAFAqUMQDhoXEgxBZG0tY2xlcmljYWwZAAAAAAAOoEAaGBINT3RoZXItc2VydmljZRkAAAAAALCWQBoZEg5Qcm9mLXNwZWNpYWx0eRkAAAAAAByTQBoQEgVTYWxlcxkAAAAAAECPQBoaEg9FeGVjLW1hbmFnZXJpYWwZAAAAAAA4jEAaDBIBPxkAAAAAALiEQBocEhFNYWNoaW5lLW9wLWluc3BjdBkAAAAAAJB7QBoXEgxUZWNoLXN1cHBvcnQZAAAAAADwcEAaFxIMQ3JhZnQtcmVwYWlyGQAAAAAAwGZAGhwSEUhhbmRsZXJzLWNsZWFuZXJzGQAAAAAAQGBAGhoSD1ByaXYtaG91c2Utc2VydhkAAAAAAMBdQBobEhBUcmFuc3BvcnQtbW92aW5nGQAAAAAAgFBAGhoSD1Byb3RlY3RpdmUtc2VydhkAAAAAAIBMQBoaEg9GYXJtaW5nLWZpc2hpbmcZAAAAAACAS0Alic44QSqdAwoXIgxBZG0tY2xlcmljYWwpAAAAAAAOoEAKHAgBEAEiDU90aGVyLXNlcnZpY2UpAAAAAACwlkAKHQgCEAIiDlByb2Ytc3BlY2lhbHR5KQAAAAAAHJNAChQIAxADIgVTYWxlcykAAAAAAECPQAoeCAQQBCIPRXhlYy1tYW5hZ2VyaWFsKQAAAAAAOIxAChAIBRAFIgE/KQAAAAAAuIRACiAIBhAGIhFNYWNoaW5lLW9wLWluc3BjdCkAAAAAAJB7QAobCAcQByIMVGVjaC1zdXBwb3J0KQAAAAAA8HBAChsICBAIIgxDcmFmdC1yZXBhaXIpAAAAAADAZkAKIAgJEAkiEUhhbmRsZXJzLWNsZWFuZXJzKQAAAAAAQGBACh4IChAKIg9Qcml2LWhvdXNlLXNlcnYpAAAAAADAXUAKHwgLEAsiEFRyYW5zcG9ydC1tb3ZpbmcpAAAAAACAUEAKHggMEAwiD1Byb3RlY3RpdmUtc2VydikAAAAAAIBMQAoeCA0QDSIPRmFybWluZy1maXNoaW5nKQAAAAAAgEtAQgwKCm9jY3VwYXRpb24a+AQQAiLjBAq2AgipQxgBIAEtAACAPzKkAhobCQAAAAAAAPA/EQAAAAAAAPA/IZqZmZmZ7YpAGhsJAAAAAAAA8D8RAAAAAAAA8D8hmpmZmZntikAaGwkAAAAAAADwPxEAAAAAAADwPyGamZmZme2KQBobCQAAAAAAAPA/EQAAAAAAAPA/IZqZmZmZ7YpAGhsJAAAAAAAA8D8RAAAAAAAA8D8hmpmZmZntikAaGwkAAAAAAADwPxEAAAAAAADwPyGamZmZme2KQBobCQAAAAAAAPA/EQAAAAAAAPA/IZqZmZmZ7YpAGhsJAAAAAAAA8D8RAAAAAAAA8D8hmpmZmZntikAaGwkAAAAAAADwPxEAAAAAAADwPyGamZmZme2KQBobCQAAAAAAAPA/EQAAAAAAAPA/IZqZmZmZ7YpAIAFAqUMQBhoYEg1Ob3QtaW4tZmFtaWx5GQAAAAAARqhAGhQSCVVubWFycmllZBkAAAAAAIygQBoUEglPd24tY2hpbGQZAAAAAADwm0AaDxIEV2lmZRkAAAAAALSTQBoZEg5PdGhlci1yZWxhdGl2ZRkAAAAAAGB1QBoSEgdIdXNiYW5kGQAAAAAAAPA/JWKKHkEqmgEKGCINTm90LWluLWZhbWlseSkAAAAAAEaoQAoYCAEQASIJVW5tYXJyaWVkKQAAAAAAjKBAChgIAhACIglPd24tY2hpbGQpAAAAAADwm0AKEwgDEAMiBFdpZmUpAAAAAAC0k0AKHQgEEAQiDk90aGVyLXJlbGF0aXZlKQAAAAAAYHVAChYIBRAFIgdIdXNiYW5kKQAAAAAAAPA/Qg4KDHJlbGF0aW9uc2hvcBrIBBACIrsECrYCCKlDGAEgAS0AAIA/MqQCGhsJAAAAAAAA8D8RAAAAAAAA8D8hmpmZmZntikAaGwkAAAAAAADwPxEAAAAAAADwPyGamZmZme2KQBobCQAAAAAAAPA/EQAAAAAAAPA/IZqZmZmZ7YpAGhsJAAAAAAAA8D8RAAAAAAAA8D8hmpmZmZntikAaGwkAAAAAAADwPxEAAAAAAADwPyGamZmZme2KQBobCQAAAAAAAPA/EQAAAAAAAPA/IZqZmZmZ7YpAGhsJAAAAAAAA8D8RAAAAAAAA8D8hmpmZmZntikAaGwkAAAAAAADwPxEAAAAAAADwPyGamZmZme2KQBobCQAAAAAAAPA/EQAAAAAAAPA/IZqZmZmZ7YpAGhsJAAAAAAAA8D8RAAAAAAAA8D8hmpmZmZntikAgAUCpQxAFGhASBVdoaXRlGQAAAAAADbtAGhASBUJsYWNrGQAAAAAAJJNAGh0SEkFzaWFuLVBhYy1Jc2xhbmRlchkAAAAAADBxQBodEhJBbWVyLUluZGlhbi1Fc2tpbW8ZAAAAAABAWUAaEBIFT3RoZXIZAAAAAADAVkAl6yayQCqEAQoQIgVXaGl0ZSkAAAAAAA27QAoUCAEQASIFQmxhY2spAAAAAAAkk0AKIQgCEAIiEkFzaWFuLVBhYy1Jc2xhbmRlcikAAAAAADBxQAohCAMQAyISQW1lci1JbmRpYW4tRXNraW1vKQAAAAAAQFlAChQIBBAEIgVPdGhlcikAAAAAAMBWQEIGCgRyYWNlGvQCEAIi6AIKtgIIqUMYASABLQAAgD8ypAIaGwkAAAAAAADwPxEAAAAAAADwPyGamZmZme2KQBobCQAAAAAAAPA/EQAAAAAAAPA/IZqZmZmZ7YpAGhsJAAAAAAAA8D8RAAAAAAAA8D8hmpmZmZntikAaGwkAAAAAAADwPxEAAAAAAADwPyGamZmZme2KQBobCQAAAAAAAPA/EQAAAAAAAPA/IZqZmZmZ7YpAGhsJAAAAAAAA8D8RAAAAAAAA8D8hmpmZmZntikAaGwkAAAAAAADwPxEAAAAAAADwPyGamZmZme2KQBobCQAAAAAAAPA/EQAAAAAAAPA/IZqZmZmZ7YpAGhsJAAAAAAAA8D8RAAAAAAAA8D8hmpmZmZntikAaGwkAAAAAAADwPxEAAAAAAADwPyGamZmZme2KQCABQKlDEAEaERIGRmVtYWxlGQAAAACA1MBAJQAAwEAqEwoRIgZGZW1hbGUpAAAAAIDUwEBCBQoDc2V4GosOEAIi9A0KtgIIqUMYASABLQAAgD8ypAIaGwkAAAAAAADwPxEAAAAAAADwPyGamZmZme2KQBobCQAAAAAAAPA/EQAAAAAAAPA/IZqZmZmZ7YpAGhsJAAAAAAAA8D8RAAAAAAAA8D8hmpmZmZntikAaGwkAAAAAAADwPxEAAAAAAADwPyGamZmZme2KQBobCQAAAAAAAPA/EQAAAAAAAPA/IZqZmZmZ7YpAGhsJAAAAAAAA8D8RAAAAAAAA8D8hmpmZmZntikAaGwkAAAAAAADwPxEAAAAAAADwPyGamZmZme2KQBobCQAAAAAAAPA/EQAAAAAAAPA/IZqZmZmZ7YpAGhsJAAAAAAAA8D8RAAAAAAAA8D8hmpmZmZntikAaGwkAAAAAAADwPxEAAAAAAADwPyGamZmZme2KQCABQKlDECoaGBINVW5pdGVkLVN0YXRlcxkAAAAAADy+QBoMEgE/GQAAAAAAAGBAGhESBk1leGljbxkAAAAAAEBdQBoWEgtQaGlsaXBwaW5lcxkAAAAAAABOQBoSEgdHZXJtYW55GQAAAAAAAEhAGhYSC1B1ZXJ0by1SaWNvGQAAAAAAgEdAGhISB0phbWFpY2EZAAAAAACAQUAaDxIEQ3ViYRkAAAAAAABBQBoREgZDYW5hZGEZAAAAAAAAQUAaEhIHRW5nbGFuZBkAAAAAAAA7QBoQEgVTb3V0aBkAAAAAAAA6QBoWEgtFbC1TYWx2YWRvchkAAAAAAAA4QBodEhJEb21pbmljYW4tUmVwdWJsaWMZAAAAAAAAOEAaEhIHVmlldG5hbRkAAAAAAAAzQBoREgZQb2xhbmQZAAAAAAAAM0AaFBIJR3VhdGVtYWxhGQAAAAAAADJAGhMSCENvbHVtYmlhGQAAAAAAADJAGhASBUl0YWx5GQAAAAAAADFAGhASBUNoaW5hGQAAAAAAADFAGhASBUhhaXRpGQAAAAAAADBAJc6fRUEqlQgKGCINVW5pdGVkLVN0YXRlcykAAAAAADy+QAoQCAEQASIBPykAAAAAAABgQAoVCAIQAiIGTWV4aWNvKQAAAAAAQF1AChoIAxADIgtQaGlsaXBwaW5lcykAAAAAAABOQAoWCAQQBCIHR2VybWFueSkAAAAAAABIQAoaCAUQBSILUHVlcnRvLVJpY28pAAAAAACAR0AKFggGEAYiB0phbWFpY2EpAAAAAACAQUAKEwgHEAciBEN1YmEpAAAAAAAAQUAKFQgIEAgiBkNhbmFkYSkAAAAAAABBQAoWCAkQCSIHRW5nbGFuZCkAAAAAAAA7QAoUCAoQCiIFU291dGgpAAAAAAAAOkAKGggLEAsiC0VsLVNhbHZhZG9yKQAAAAAAADhACiEIDBAMIhJEb21pbmljYW4tUmVwdWJsaWMpAAAAAAAAOEAKFggNEA0iB1ZpZXRuYW0pAAAAAAAAM0AKFQgOEA4iBlBvbGFuZCkAAAAAAAAzQAoYCA8QDyIJR3VhdGVtYWxhKQAAAAAAADJAChcIEBAQIghDb2x1bWJpYSkAAAAAAAAyQAoUCBEQESIFSXRhbHkpAAAAAAAAMUAKFAgSEBIiBUNoaW5hKQAAAAAAADFAChQIExATIgVIYWl0aSkAAAAAAAAwQAoUCBQQFCIFSmFwYW4pAAAAAAAALkAKFQgVEBUiBlRhaXdhbikAAAAAAAAsQAoTCBYQFiIEUGVydSkAAAAAAAAmQAoXCBcQFyIIUG9ydHVnYWwpAAAAAAAAJEAKGAgYEBgiCU5pY2FyYWd1YSkAAAAAAAAkQAoXCBkQGSIIVGhhaWxhbmQpAAAAAAAAIkAKFQgaEBoiBkZyYW5jZSkAAAAAAAAiQAoTCBsQGyIESXJhbikAAAAAAAAgQAoUCBwQHCIFSW5kaWEpAAAAAAAAIEAKFggdEB0iB0lyZWxhbmQpAAAAAAAAHEAKHggeEB4iD1RyaW5hZGFkJlRvYmFnbykAAAAAAAAYQAoXCB8QHyIISG9uZHVyYXMpAAAAAAAAGEAKFgggECAiB0VjdWFkb3IpAAAAAAAAGEAKFgghECEiB0h1bmdhcnkpAAAAAAAAFEAKFwgiECIiCFNjb3RsYW5kKQAAAAAAABBAChMIIxAjIgRMYW9zKQAAAAAAABBAChMIJBAkIgRIb25nKQAAAAAAABBAChkIJRAlIgpZdWdvc2xhdmlhKQAAAAAAAAhACikIJhAmIhpPdXRseWluZy1VUyhHdWFtLVVTVkktZXRjKSkAAAAAAAAIQAoVCCcQJyIGR3JlZWNlKQAAAAAAAAhAChcIKBAoIghDYW1ib2RpYSkAAAAAAAAIQAohCCkQKSISSG9sYW5kLU5ldGhlcmxhbmRzKQAAAAAAAPA/QhAKDm5hdGl2ZS1jb3VudHJ5GrwHGrIHCrYCCKlDGAEgAS0AAIA/MqQCGhsJAAAAAAAA8D8RAAAAAAAA8D8hmpmZmZntikAaGwkAAAAAAADwPxEAAAAAAADwPyGamZmZme2KQBobCQAAAAAAAPA/EQAAAAAAAPA/IZqZmZmZ7YpAGhsJAAAAAAAA8D8RAAAAAAAA8D8hmpmZmZntikAaGwkAAAAAAADwPxEAAAAAAADwPyGamZmZme2KQBobCQAAAAAAAPA/EQAAAAAAAPA/IZqZmZmZ7YpAGhsJAAAAAAAA8D8RAAAAAAAA8D8hmpmZmZntikAaGwkAAAAAAADwPxEAAAAAAADwPyGamZmZme2KQBobCQAAAAAAAPA/EQAAAAAAAPA/IZqZmZmZ7YpAGhsJAAAAAAAA8D8RAAAAAAAA8D8hmpmZmZntikAgAUCpQxHtJB2zu4JCQBnK72VbLzIsQCkAAAAAAAAxQDEAAAAAAIBBQDkAAAAAAIBWQEKiAhobCQAAAAAAADFAEc3MzMzMTDhAIfJjzF0LvZ5AGhsJzczMzMxMOEARmpmZmZmZP0Ah4guTqUKfmUAaGwmamZmZmZk/QBEzMzMzM3NDQCGSfvs6sLeVQBobCTMzMzMzc0NAEZqZmZmZGUdAIfa52oo9mpdAGhsJmpmZmZkZR0ARAAAAAADASkAhK6kT0MQpjUAaGwkAAAAAAMBKQBFmZmZmZmZOQCHtnjwsVGSCQBobCWZmZmZmZk5AEWZmZmZmBlFAIfAWSFD8x3ZAGhsJZmZmZmYGUUARmpmZmZnZUkAhS5T2Bl+iYkAaGwmamZmZmdlSQBHNzMzMzKxUQCGCXQFyr5FKQBobCc3MzMzMrFRAEQAAAAAAgFZAIcEaVAjR9zRAQqQCGhsJAAAAAAAAMUARAAAAAAAANEAhmpmZmZntikAaGwkAAAAAAAA0QBEAAAAAAAA3QCGamZmZme2KQBobCQAAAAAAADdAEQAAAAAAADtAIZqZmZmZ7YpAGhsJAAAAAAAAO0ARAAAAAAAAP0AhmpmZmZntikAaGwkAAAAAAAA/QBEAAAAAAIBBQCGamZmZme2KQBobCQAAAAAAgEFAEQAAAAAAgENAIZqZmZmZ7YpAGhsJAAAAAACAQ0ARAAAAAAAARkAhmpmZmZntikAaGwkAAAAAAABGQBEAAAAAAIBIQCGamZmZme2KQBobCQAAAAAAgEhAEQAAAAAAgExAIZqZmZmZ7YpAGhsJAAAAAACATEARAAAAAACAVkAhmpmZmZntikAgAUIFCgNhZ2UavwcasgcKtgIIqUMYASABLQAAgD8ypAIaGwkAAAAAAADwPxEAAAAAAADwPyGamZmZme2KQBobCQAAAAAAAPA/EQAAAAAAAPA/IZqZmZmZ7YpAGhsJAAAAAAAA8D8RAAAAAAAA8D8hmpmZmZntikAaGwkAAAAAAADwPxEAAAAAAADwPyGamZmZme2KQBobCQAAAAAAAPA/EQAAAAAAAPA/IZqZmZmZ7YpAGhsJAAAAAAAA8D8RAAAAAAAA8D8hmpmZmZntikAaGwkAAAAAAADwPxEAAAAAAADwPyGamZmZme2KQBobCQAAAAAAAPA/EQAAAAAAAPA/IZqZmZmZ7YpAGhsJAAAAAAAA8D8RAAAAAAAA8D8hmpmZmZntikAaGwkAAAAAAADwPxEAAAAAAADwPyGamZmZme2KQCABQKlDEY3qgXOwoAZBGTa2dbrCCflAKQAAAACA/sdAMQAAAABQdAVBOQAAAAChpzZBQqICGhsJAAAAAID+x0ARAAAAADh5A0Eh1ipqPa/Wq0AaGwkAAAAAOHkDQREAAAAARLkSQSF0c/9HweyvQBobCQAAAABEuRJBEQAAAADstRtBITENQZ6RZIpAGhsJAAAAAOy1G0ERAAAAAEpZIkEh25v77qpvVUAaGwkAAAAASlkiQREAAAAAntcmQSFWDFN1uaA2QBobCQAAAACe1yZBEQAAAADyVStBIdJPdjPm1BhAGhsJAAAAAPJVK0ERAAAAAEbUL0EhjEzgidVBAEAaGwkAAAAARtQvQREAAAAATSkyQSGMTOCJ1UEAQBobCQAAAABNKTJBEQAAAAB3aDRBIYxM4InVQQBAGhsJAAAAAHdoNEERAAAAAKGnNkEhjEzgidVBAEBCpAIaGwkAAAAAgP7HQBEAAAAA4EPwQCGamZmZme2KQBobCQAAAADgQ/BAEQAAAAAAtvlAIZqZmZmZ7YpAGhsJAAAAAAC2+UARAAAAAECe/0AhmpmZmZntikAaGwkAAAAAQJ7/QBEAAAAAWAMDQSGamZmZme2KQBobCQAAAABYAwNBEQAAAABQdAVBIZqZmZmZ7YpAGhsJAAAAAFB0BUERAAAAAECNB0EhmpmZmZntikAaGwkAAAAAQI0HQREAAAAAyAIKQSGamZmZme2KQBobCQAAAADIAgpBEQAAAACgsw5BIZqZmZmZ7YpAGhsJAAAAAKCzDkERAAAAAAxgE0EhmpmZmZntikAaGwkAAAAADGATQREAAAAAoac2QSGamZmZme2KQCABQggKBmZubHdndBrGBxqyBwq2AgipQxgBIAEtAACAPzKkAhobCQAAAAAAAPA/EQAAAAAAAPA/IZqZmZmZ7YpAGhsJAAAAAAAA8D8RAAAAAAAA8D8hmpmZmZntikAaGwkAAAAAAADwPxEAAAAAAADwPyGamZmZme2KQBobCQAAAAAAAPA/EQAAAAAAAPA/IZqZmZmZ7YpAGhsJAAAAAAAA8D8RAAAAAAAA8D8hmpmZmZntikAaGwkAAAAAAADwPxEAAAAAAADwPyGamZmZme2KQBobCQAAAAAAAPA/EQAAAAAAAPA/IZqZmZmZ7YpAGhsJAAAAAAAA8D8RAAAAAAAA8D8hmpmZmZntikAaGwkAAAAAAADwPxEAAAAAAADwPyGamZmZme2KQBobCQAAAAAAAPA/EQAAAAAAAPA/IZqZmZmZ7YpAIAFAqUMRGJEMMUUPJEAZiNRflQ3dAkApAAAAAAAA8D8xAAAAAAAAJEA5AAAAAAAAMEBCogIaGwkAAAAAAADwPxEAAAAAAAAEQCHvfD81XrJHQBobCQAAAAAAAARAEQAAAAAAABBAIVyPwvUoKFBAGhsJAAAAAAAAEEARAAAAAAAAFkAhKlyPwvWebUAaGwkAAAAAAAAWQBEAAAAAAAAcQCFjEFg5tLJuQBobCQAAAAAAABxAEQAAAAAAACFAIcUgsHJovHtAGhsJAAAAAAAAIUARAAAAAAAAJEAhYeXQIrukpUAaGwkAAAAAAAAkQBEAAAAAAAAnQCHkpZvEwH+kQBobCQAAAAAAACdAEQAAAAAAACpAIW3n+6nxRXVAGhsJAAAAAAAAKkARAAAAAAAALUAh0PdT4+W5mkAaGwkAAAAAAAAtQBEAAAAAAAAwQCF66SYxCLJgQEKkAhobCQAAAAAAAPA/EQAAAAAAABxAIZqZmZmZ7YpAGhsJAAAAAAAAHEARAAAAAAAAIkAhmpmZmZntikAaGwkAAAAAAAAiQBEAAAAAAAAiQCGamZmZme2KQBobCQAAAAAAACJAEQAAAAAAACJAIZqZmZmZ7YpAGhsJAAAAAAAAIkARAAAAAAAAJEAhmpmZmZntikAaGwkAAAAAAAAkQBEAAAAAAAAkQCGamZmZme2KQBobCQAAAAAAACRAEQAAAAAAACRAIZqZmZmZ7YpAGhsJAAAAAAAAJEARAAAAAAAAKkAhmpmZmZntikAaGwkAAAAAAAAqQBEAAAAAAAAqQCGamZmZme2KQBobCQAAAAAAACpAEQAAAAAAADBAIZqZmZmZ7YpAIAFCDwoNZWR1Y2F0aW9uLW51bRqBBhruBQq2AgipQxgBIAEtAACAPzKkAhobCQAAAAAAAPA/EQAAAAAAAPA/IZqZmZmZ7YpAGhsJAAAAAAAA8D8RAAAAAAAA8D8hmpmZmZntikAaGwkAAAAAAADwPxEAAAAAAADwPyGamZmZme2KQBobCQAAAAAAAPA/EQAAAAAAAPA/IZqZmZmZ7YpAGhsJAAAAAAAA8D8RAAAAAAAA8D8hmpmZmZntikAaGwkAAAAAAADwPxEAAAAAAADwPyGamZmZme2KQBobCQAAAAAAAPA/EQAAAAAAAPA/IZqZmZmZ7YpAGhsJAAAAAAAA8D8RAAAAAAAA8D8hmpmZmZntikAaGwkAAAAAAADwPxEAAAAAAADwPyGamZmZme2KQBobCQAAAAAAAPA/EQAAAAAAAPA/IZqZmZmZ7YpAIAFAqUMRMUtVIW7dgkAZrrK6hsRbtEAgrD85AAAAAPBp+EBCmQIaEhEzMzMz84fDQCEm8FdWUJvAQBobCTMzMzPzh8NAETMzMzPzh9NAIS8JzsOCWVNAGhsJMzMzM/OH00ARzMzMzOxL3UAhPKDFeZzDJkAaGwnMzMzM7EvdQBEzMzMz84fjQCG+1F6jcxrzPxobCTMzMzPzh+NAEQAAAADwaehAIb7UXqNzGvM/GhsJAAAAAPBp6EARzMzMzOxL7UAhu9Reo3Ma8z8aGwnMzMzM7EvtQBHNzMzM9BbxQCHC1F6jcxrzPxobCc3MzMz0FvFAETMzMzPzh/NAIbvUXqNzGvM/GhsJMzMzM/OH80ARmZmZmfH49UAhu9Reo3Ma8z8aGwmZmZmZ8fj1QBEAAAAA8Gn4QCHiMMGmjm0yQEJ5GgkhmpmZmZntikAaCSGamZmZme2KQBoJIZqZmZmZ7YpAGgkhmpmZmZntikAaCSGamZmZme2KQBoJIZqZmZmZ7YpAGgkhmpmZmZntikAaCSGamZmZme2KQBoJIZqZmZmZ7YpAGhIRAAAAAPBp+EAhmpmZmZntikAgAUIOCgxjYXBpdGFsLWdhaW4agQYa7gUKtgIIqUMYASABLQAAgD8ypAIaGwkAAAAAAADwPxEAAAAAAADwPyGamZmZme2KQBobCQAAAAAAAPA/EQAAAAAAAPA/IZqZmZmZ7YpAGhsJAAAAAAAA8D8RAAAAAAAA8D8hmpmZmZntikAaGwkAAAAAAADwPxEAAAAAAADwPyGamZmZme2KQBobCQAAAAAAAPA/EQAAAAAAAPA/IZqZmZmZ7YpAGhsJAAAAAAAA8D8RAAAAAAAA8D8hmpmZmZntikAaGwkAAAAAAADwPxEAAAAAAADwPyGamZmZme2KQBobCQAAAAAAAPA/EQAAAAAAAPA/IZqZmZmZ7YpAGhsJAAAAAAAA8D8RAAAAAAAA8D8hmpmZmZntikAaGwkAAAAAAADwPxEAAAAAAADwPyGamZmZme2KQCABQKlDEYvAlyzr9E1AGQKly+qfFHVAIIdBOQAAAAAABLFAQpkCGhIRmpmZmZk5e0Ah4Cy3CO1HwEAaGwmamZmZmTl7QBGamZmZmTmLQCECMRj8lXIrQBobCZqZmZmZOYtAETQzMzMza5RAIUTvGKmCnB5AGhsJNDMzMzNrlEARmpmZmZk5m0AhBcP0gT6OXEAaGwmamZmZmTmbQBEAAAAAAAShQCFS0KCZFTlZQBobCQAAAAAABKFAETQzMzMza6RAIXEV7smUEUBAGhsJNDMzMzNrpEARZ2ZmZmbSp0Ahg+49jkr2FUAaGwlnZmZmZtKnQBGamZmZmTmrQCEp6y+0kL4CQBobCZqZmZmZOatAEc3MzMzMoK5AISnrL7SQvgJAGhsJzczMzMygrkARAAAAAAAEsUAhKesvtJC+AkBCeRoJIZqZmZmZ7YpAGgkhmpmZmZntikAaCSGamZmZme2KQBoJIZqZmZmZ7YpAGgkhmpmZmZntikAaCSGamZmZme2KQBoJIZqZmZmZ7YpAGgkhmpmZmZntikAaCSGamZmZme2KQBoSEQAAAAAABLFAIZqZmZmZ7YpAIAFCDgoMY2FwaXRhbC1sb3NzGscHGrIHCrYCCKlDGAEgAS0AAIA/MqQCGhsJAAAAAAAA8D8RAAAAAAAA8D8hmpmZmZntikAaGwkAAAAAAADwPxEAAAAAAADwPyGamZmZme2KQBobCQAAAAAAAPA/EQAAAAAAAPA/IZqZmZmZ7YpAGhsJAAAAAAAA8D8RAAAAAAAA8D8hmpmZmZntikAaGwkAAAAAAADwPxEAAAAAAADwPyGamZmZme2KQBobCQAAAAAAAPA/EQAAAAAAAPA/IZqZmZmZ7YpAGhsJAAAAAAAA8D8RAAAAAAAA8D8hmpmZmZntikAaGwkAAAAAAADwPxEAAAAAAADwPyGamZmZme2KQBobCQAAAAAAAPA/EQAAAAAAAPA/IZqZmZmZ7YpAGhsJAAAAAAAA8D8RAAAAAAAA8D8hmpmZmZntikAgAUCpQxGxAe/bjTFCQBk70yrE/ZknQCkAAAAAAADwPzEAAAAAAABEQDkAAAAAAMBYQEKiAhobCQAAAAAAAPA/EZqZmZmZmSVAIXS1FfvLhnJAGhsJmpmZmZmZJUARmpmZmZmZNEAhhZ7Nqs9njUAaGwmamZmZmZk0QBFnZmZmZmY+QCFlqmBUUsiNQBobCWdmZmZmZj5AEZqZmZmZGURAIVtkO9+PubNAGhsJmpmZmZkZREARAAAAAAAASUAhSS7/If23gUAaGwkAAAAAAABJQBFnZmZmZuZNQCEBJSusQb1/QBobCWdmZmZm5k1AEWdmZmZmZlFAIcZF2x6q0GlAGhsJZ2ZmZmZmUUARmpmZmZnZU0Ah6/8c5svDSUAaGwmamZmZmdlTQBHNzMzMzExWQCE0e6AVGDI6QBobCc3MzMzMTFZAEQAAAAAAwFhAIT9vKlJh7DFAQqQCGhsJAAAAAAAA8D8RAAAAAAAANEAhmpmZmZntikAaGwkAAAAAAAA0QBEAAAAAAAA8QCGamZmZme2KQBobCQAAAAAAADxAEQAAAAAAgEFAIZqZmZmZ7YpAGhsJAAAAAACAQUARAAAAAAAAREAhmpmZmZntikAaGwkAAAAAAABEQBEAAAAAAABEQCGamZmZme2KQBobCQAAAAAAAERAEQAAAAAAAERAIZqZmZmZ7YpAGhsJAAAAAAAAREARAAAAAAAAREAhmpmZmZntikAaGwkAAAAAAABEQBEAAAAAAABEQCGamZmZme2KQBobCQAAAAAAAERAEQAAAAAAAEhAIZqZmZmZ7YpAGhsJAAAAAAAASEARAAAAAADAWEAhmpmZmZntikAgAUIQCg5ob3Vycy1wZXItd2Vlaw==\"></facets-overview>';\n",
       "        facets_iframe.srcdoc = facets_html;\n",
       "         facets_iframe.id = \"\";\n",
       "         setTimeout(() => {\n",
       "           facets_iframe.setAttribute('height', facets_iframe.contentWindow.document.body.offsetHeight + 'px')\n",
       "         }, 1500)\n",
       "         </script>"
      ],
      "text/plain": [
       "<IPython.core.display.HTML object>"
      ]
     },
     "metadata": {},
     "output_type": "display_data"
    }
   ],
   "source": [
    "from tensorflow_metadata.proto.v0.statistics_pb2 import DatasetFeatureStatisticsList\n",
    "\n",
    "# Convert `Male` statistics (index=1) to the correct type and get the dataset name\n",
    "male_stats_list = DatasetFeatureStatisticsList()\n",
    "male_stats_list.datasets.extend([sliced_stats.datasets[1]])\n",
    "male_stats_name = sliced_stats.datasets[1].name\n",
    "\n",
    "# Convert `Female` statistics (index=2) to the correct type and get the dataset name\n",
    "female_stats_list = DatasetFeatureStatisticsList()\n",
    "female_stats_list.datasets.extend([sliced_stats.datasets[2]])\n",
    "female_stats_name = sliced_stats.datasets[2].name\n",
    "\n",
    "# Visualize the two slices side by side\n",
    "tfdv.visualize_statistics(\n",
    "    lhs_statistics=male_stats_list,\n",
    "    rhs_statistics=female_stats_list,\n",
    "    lhs_name=male_stats_name,\n",
    "    rhs_name=female_stats_name\n",
    ")"
   ]
  },
  {
   "cell_type": "markdown",
   "metadata": {},
   "source": [
    "You should now see the visualization of the two slices and you can compare how they are represented in the dataset. \n",
    "\n",
    "We encourage you to go back to the beginning of this section and try different slices. Here are other ways you can explore:\n",
    "\n",
    "* If you want to be more specific, then you can map the specific value to the feature name. For example, if you want just `Male`, then you can declare it as `features={'sex': [b'Male']}`. Notice that the string literal needs to be passed in as bytes with the `b'` prefix.\n",
    "\n",
    "* You can also pass in several features if you want. For example, if you want to slice through both the `sex` and `race` features, then you can do `features={'sex': None, 'race': None}`.\n",
    "\n",
    "You might find it cumbersome or inefficient to redo the whole process for a particular slice. For that, you can make helper functions to streamline the type conversions and you will see one implementation in this week's assignment."
   ]
  },
  {
   "cell_type": "markdown",
   "metadata": {
    "id": "YY812jDDgPU3"
   },
   "source": [
    "## Wrap up\n",
    "\n",
    "This exercise demonstrated how you would use Tensorflow Data Validation in a machine learning project.\n",
    "\n",
    "* It allows you to scale the computation of statistics over datasets.\n",
    "\n",
    "* You can infer the schema of a given dataset and revise it based on your domain knowledge. \n",
    "\n",
    "* You can inspect discrepancies between the training and evaluation datasets by visualizing the statistics and detecting anomalies.\n",
    "\n",
    "* You can analyze specific slices of your dataset.\n",
    "\n",
    "You can consult this notebook in this week's programming assignment as well as these additional resources:\n",
    "\n",
    "* [TFDV Guide](https://www.tensorflow.org/tfx/data_validation/get_started) \n",
    "* [TFDV blog post](https://blog.tensorflow.org/2018/09/introducing-tensorflow-data-validation.html)\n",
    "* [Tensorflow Official Tutorial](https://colab.research.google.com/github/tensorflow/tfx/blob/master/docs/tutorials/data_validation/tfdv_basic.ipynb#scrollTo=mPt5BHTwy_0F)\n",
    "* [API Docs](https://www.tensorflow.org/tfx/data_validation/api_docs/python/tfdv)"
   ]
  }
 ],
 "metadata": {
  "colab": {
   "collapsed_sections": [],
   "name": "C2_W1_Lab_1_TFDV_Exercise.ipynb",
   "provenance": []
  },
  "kernelspec": {
   "display_name": "Python 3",
   "language": "python",
   "name": "python3"
  },
  "language_info": {
   "codemirror_mode": {
    "name": "ipython",
    "version": 3
   },
   "file_extension": ".py",
   "mimetype": "text/x-python",
   "name": "python",
   "nbconvert_exporter": "python",
   "pygments_lexer": "ipython3",
   "version": "3.8.10"
  }
 },
 "nbformat": 4,
 "nbformat_minor": 4
}
